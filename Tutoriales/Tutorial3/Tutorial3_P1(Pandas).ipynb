{
 "cells": [
  {
   "cell_type": "markdown",
   "metadata": {},
   "source": [
    "# Tutoriales de Big Data\n",
    "## Tutorial 3 - Parte 1\n",
    "\n",
    "El objetivo de esta tutorial se centra en Pandas y Matplotlib aunque también mencionaremos alguns de las virtudes de Numpy."
   ]
  },
  {
   "cell_type": "markdown",
   "metadata": {},
   "source": [
    "**NumPy** es una librería de cálculo numérico para Python (generación de números aleatorios, álgebra lineal, análisis de Fourier, etc.). ;uchas de las principales librerías en análisis de datos que utilizaremos en la materia utilizan a NumPy como motor de cálculo.\n",
    "\n",
    "**Pandas** es quizás la librería que más usen en sus primeros pasos en Python, sirve para el trabajo con tablas de datos estructuradas (dataframes), importar tablas de información, manipularlas y analizarlas. \n",
    "\n",
    "**Matplolib** es una librería para visualización de datos.\n",
    "\n",
    "El objetivo de este tutorial es servir de introducción/repaso de estas librerías. Por supuesto que hay mucho más para conocer de lo que se cubre en esta clase, pero esa tarea se la dejaremos a ustedes (con la ayuda de Google y ChatGPT). "
   ]
  },
  {
   "cell_type": "markdown",
   "metadata": {},
   "source": [
    "### Numpy\n",
    "\n",
    "NumPy es una librería de cálculo numérico para Python, lanzada inicialmente en 1995. Está escrita en lenguajes de bajo nivel (por ejemplo, C) para permitir realizar operaciones matemáticas de manera eficiente.\n",
    "\n",
    "Muchas librerías muy utilizadas en análisis de datos tienen a NumPy como librería base, y agregan funcionalidades adicionales por encima de ella. Algunos ejemplos son:\n",
    "- Pandas: para manejo de datos tabulares\n",
    "- Matplotlib: para visualización de datos\n",
    "- SciPy: para cálculo científico \n",
    "- scikit-learn: para aprendizaje automático\n"
   ]
  },
  {
   "cell_type": "markdown",
   "metadata": {},
   "source": [
    "### Pandas\n",
    "\n",
    "Pandas: es la librería más usada manejo de datos en tablas (conocidas como dataframes), tiene funciones y métodos que facilitan mucho el trabajo con este tipo de datos. Se usa para tareas de procesamiento, análisis y visualización de datos.\n",
    "\n",
    "Los dos tipos principales de objetos de Pandas son:\n",
    "- Series (una matriz unidimensional etiquetada) \n",
    "- DataFrames (una estructura de datos bidimensional etiquetada con columnas de tipos posiblemente diversos). \n",
    " \n",
    "Ya hemos visto:\n",
    "- importar/exportar y crear DataFrames\n",
    "- explorar la tabla de datos\n",
    "\n",
    "En esta clase vamos a usarla para:\n",
    "- filtrar datos\n",
    "- agregar columnas / filas\n",
    "- unir bases (merge, join)"
   ]
  },
  {
   "cell_type": "markdown",
   "metadata": {},
   "source": [
    "#### Repaso\n",
    "\n",
    "Algunos de los métodos del paquete Pandas que vimos en las tutoriales pasadas son:\n",
    "- `pd.read_excel()`: abrir un archivo .xls o .xlsx\n",
    "- `pd.read_csv()`: abrir un archivo .csv\n",
    "- `df.head(N)`: ver las primeras N líneas \n",
    "- `df.tail(N)`: ver las últimas N líneas \n",
    "- `df.sample(N)`: ver una muestra de N líneas \n",
    "- `pd.DataFrame(columns=[\"AA\", \"BB\"])`: crear tabla con columnas AA y BB\n",
    "- `df.to_excel()`: guardar una tabla en archivo .xls o .xslx\n",
    "- `df.to_csv()`: guardar una tabla en archivo .csv\n",
    "\n",
    "Empecemos importando pandas como pd:"
   ]
  },
  {
   "cell_type": "code",
   "execution_count": null,
   "metadata": {},
   "outputs": [],
   "source": [
    "import pandas as pd"
   ]
  },
  {
   "cell_type": "markdown",
   "metadata": {},
   "source": [
    "##### Explorar datos\n",
    "Vamos a usar un ejemplo con registros de grupos inventados de estudiantes"
   ]
  },
  {
   "cell_type": "code",
   "execution_count": null,
   "metadata": {},
   "outputs": [],
   "source": [
    "# Recuerden tener el archivo en la carpeta donde están o modificar su directorio con:\n",
    "import os # Exportamos este módulo para trabajar con carpetas\n",
    "# Acá deben reemplazar la ruta con su directorio.\n",
    "os.chdir(\"/Volumes/GoogleDrive-111652351013091046884/My Drive/Docencia/Ciencia de Datos/Tutorial 2024/Tutorial 3\")\n",
    "\n",
    "# Abrimos el archivo y vemos las primeras dos filas\n",
    "df = pd.read_excel(\"tabla_ejemplo.xlsx\")\n",
    "df.head(3)"
   ]
  },
  {
   "cell_type": "markdown",
   "metadata": {},
   "source": [
    "El 0, 1 y 2 en el margen son los números de fila"
   ]
  },
  {
   "cell_type": "code",
   "execution_count": null,
   "metadata": {},
   "outputs": [],
   "source": [
    "df.sample(3)"
   ]
  },
  {
   "cell_type": "markdown",
   "metadata": {},
   "source": [
    "Al importar un df, es una buena práctica imprimir algunas líneas para verificar que se haya cargado bien. \n",
    "También es útil imprimir el listado de nombres de las columnas y el tipo de dato:\n",
    "- `df.columns`: listado de nombres de columnas\n",
    "- `df.dtypes`: tipo de dato por columna\n",
    "- `df.shape`: cantidad de filas y columnas\n",
    "- `df.info`: información más detallada sobre el df"
   ]
  },
  {
   "cell_type": "code",
   "execution_count": null,
   "metadata": {},
   "outputs": [],
   "source": [
    "print('Columns:', df.columns)\n",
    "print('\\nTypes:\\n', df.dtypes) # muestra el tipo de dato de cada columna\n",
    "print('\\nShape:', df.shape) # muestra cuántas filas y columnas tiene la tabla\n",
    "print('\\nInfo:\\n', df.info)"
   ]
  },
  {
   "cell_type": "code",
   "execution_count": null,
   "metadata": {},
   "outputs": [],
   "source": [
    "df.info(verbose = True)# verbose imprime resumen completo"
   ]
  },
  {
   "cell_type": "markdown",
   "metadata": {},
   "source": [
    "##### Trabajando con dataframes\n",
    "A continuación vamos a ver una serie de acciones que podemos realizar con dataframes:\n",
    "\n",
    "1. Crear columnas\n",
    "2. Tipos de datos\n",
    "3. Aplicar funciones\n",
    "4. Seleccionar/filtrar datos \n",
    "5. Eliminar duplicados\n",
    "6. Concatenar (*concat*)\n",
    "7. Join/merge\n",
    "8. Agrupar (*aggregate*)"
   ]
  },
  {
   "cell_type": "markdown",
   "metadata": {},
   "source": [
    "Algunas de las operaciones que podemos realizar con dataframes de pandas:\n",
    "Podemos seleccionar una columna de dos maneras:\n",
    "- `df[\"nombre columna\"]`: esto devuelve la columna como un objeto de tipo pandas Series. Se puede usar con nombres que incluyen espacios, sirve para crear columnas y operaciones con y entre columnas existentes. \n",
    "- `df.nombre_columna`: permite acceder a la columna, pero como un atributo del dataframe. Una limitación es que no se puede usar con nombres que incluyen espacios, ni tampoco para crear columnas nuevas. Si para operaciones con y entre columnas existentes."
   ]
  },
  {
   "cell_type": "code",
   "execution_count": null,
   "metadata": {},
   "outputs": [],
   "source": [
    "# Vamos a trabajarcon dataframe de ejemplo:\n",
    "df = pd.read_excel(\"tabla_ejemplo_2.xlsx\") # ejemplo2\n",
    "print(df.columns) # Prueben que pasa si no ponemos print() acá\n",
    "df.head(3)"
   ]
  },
  {
   "cell_type": "markdown",
   "metadata": {},
   "source": [
    "##### 1) Crear columnas"
   ]
  },
  {
   "cell_type": "code",
   "execution_count": null,
   "metadata": {},
   "outputs": [],
   "source": [
    "# Creamos una columna nueva con total de inscriptos llamada \"inscriptos total\"\n",
    "df[\"inscriptos_total\"] = df[\"inscriptos_ronda1\"] + df[\"inscriptos_ronda2\"]\n",
    "df.head(3)"
   ]
  },
  {
   "cell_type": "code",
   "execution_count": null,
   "metadata": {},
   "outputs": [],
   "source": [
    "# Sumemos 2 inscriptos a cada grupo de la ronda 2 y volvamos a calcular el total\n",
    "df[\"inscriptos_ronda2\"] = df[\"inscriptos_ronda2\"] + 2\n",
    "df[\"inscriptos_total\"] = df[\"inscriptos_ronda1\"] + df[\"inscriptos_ronda2\"]\n",
    "df.head(3)"
   ]
  },
  {
   "cell_type": "code",
   "execution_count": null,
   "metadata": {},
   "outputs": [],
   "source": [
    "# Generemos un id concatenando area y materia, incluyamos un separador\n",
    "df[\"area_asignatura\"] = df[\"area\"]+\"_\"+df[\"asignatura\"]\n",
    "\n",
    "# Generemos una columna que indique estado de inscripcion\n",
    "df[\"inscripcion_estado\"] = \"CERRADA\"\n",
    "\n",
    "df"
   ]
  },
  {
   "cell_type": "markdown",
   "metadata": {},
   "source": [
    "#####  2) Tipo de dato\n",
    "Ya vimos como podemos usar pandas para conocer el tipo de dato de cada columna, usando df.info(verbose=True).\n",
    "Para ver el tipo de dato de una columna podemos usar:\n",
    "\n",
    "`df[\"nombre_columna\"].dtype`:"
   ]
  },
  {
   "cell_type": "code",
   "execution_count": null,
   "metadata": {},
   "outputs": [],
   "source": [
    "df[\"inscriptos_total\"].dtype"
   ]
  },
  {
   "cell_type": "markdown",
   "metadata": {},
   "source": [
    "##### 3) Aplicar funciones a columnas \n",
    "Las columnas son objetos iterables sobre los que podemos aplicar una función y afectará a los registros en cada uno de los elementos del array.\n",
    "Podemos aplicar funciones predefinidas como también funciones propias. Veamos un ejemplo con una función predefinida:"
   ]
  },
  {
   "cell_type": "code",
   "execution_count": null,
   "metadata": {},
   "outputs": [],
   "source": [
    "# La función round () redondea al entero más cercano\n",
    "df[\"edad_promedio_r\"] = round(df[\"edad_promedio\"])\n",
    "df.head(3)"
   ]
  },
  {
   "cell_type": "markdown",
   "metadata": {},
   "source": [
    "También podemos usar `df[\"nombre_columna\"].apply(funcion x)`. Donde `apply()` inserta `df[\"nombre_columna\"]` como parámetro en `funcion x()`.\n",
    "Apply itera sobre los inputs y aplica la función sobre cada elemento."
   ]
  },
  {
   "cell_type": "code",
   "execution_count": null,
   "metadata": {},
   "outputs": [],
   "source": [
    "df['edad_promedio_r'] = df['edad_promedio'].apply(round)\n",
    "df.head(3)"
   ]
  },
  {
   "cell_type": "markdown",
   "metadata": {},
   "source": [
    "Ahora veamos un ejemplo con una función propia:"
   ]
  },
  {
   "cell_type": "code",
   "execution_count": null,
   "metadata": {},
   "outputs": [],
   "source": [
    "# Primero definimos una función simple\n",
    "def clasificar_tamano(inscriptos):\n",
    "    if inscriptos < 30:\n",
    "        tamano = \"Chico\"\n",
    "    else:\n",
    "        tamano = \"Grande\"\n",
    "    return tamano"
   ]
  },
  {
   "cell_type": "code",
   "execution_count": null,
   "metadata": {},
   "outputs": [],
   "source": [
    "# Ahora la aplicamos\n",
    "df['inscriptos_total'].apply(clasificar_tamano)\n",
    "df['tamano_clase'] = df['inscriptos_total'].apply(clasificar_tamano)\n",
    "df.head(7)"
   ]
  },
  {
   "cell_type": "markdown",
   "metadata": {},
   "source": [
    "##### 4) Seleccionar columnas y/o filas\n",
    "Para seleccionar un sub-conjunto de filas y/o columnas (Slicing) hay distintas alternativas:"
   ]
  },
  {
   "cell_type": "code",
   "execution_count": null,
   "metadata": {},
   "outputs": [],
   "source": [
    "# Seleccionamos una columna\n",
    "df[\"grupo\"]\n",
    "\n",
    "# Seleccionamos varias columnas (usamos lista de nombres de columnas)\n",
    "df[[\"grupo\",\"asignatura\",\"inscriptos_total\"]]\n",
    "\n",
    "# Guardamos una copia como otro dataframe\n",
    "df_resumen = df[[\"grupo\",\"inscriptos_total\"]].copy()\n",
    "df_resumen"
   ]
  },
  {
   "cell_type": "code",
   "execution_count": null,
   "metadata": {
    "scrolled": true
   },
   "outputs": [],
   "source": [
    "# Para seleccionar un sub-conjunto de filas podemos usar los índices:\n",
    "\n",
    "# Seleccionamos las filas 3 a 5\n",
    "df[3:6] # el límite inferior sí se incluye pero el superior no. sería como indicar el intervalo [3, 6)"
   ]
  },
  {
   "cell_type": "code",
   "execution_count": null,
   "metadata": {},
   "outputs": [],
   "source": [
    "# Seleccionamos las primeras 3 filas\n",
    "df[:3]"
   ]
  },
  {
   "cell_type": "code",
   "execution_count": null,
   "metadata": {},
   "outputs": [],
   "source": [
    "# Seleccionamos las últimas 3 filas\n",
    "df[-3:]"
   ]
  },
  {
   "cell_type": "markdown",
   "metadata": {},
   "source": [
    "Para filtrar usando condiciones:\n",
    "- Si hay una condición: `df[condición]`\n",
    "- Si hay más de una condición: `df[(condición1)&/|(condición2)]`\n",
    "\n",
    "Donde la condición es booleana (evalúa a True o False), de ser 2 o más, debe estar unida por un operador lógico (\"&\"/\"|\"). Noten que los operadores lógicos que usamos son \"&\"/\"|\" y no \"and\"/\"or\". Esto es por cómo está implementado Pandas"
   ]
  },
  {
   "cell_type": "code",
   "execution_count": null,
   "metadata": {},
   "outputs": [],
   "source": [
    "df[df[\"area\"]!=\"Cs. Sociales\"]"
   ]
  },
  {
   "cell_type": "code",
   "execution_count": null,
   "metadata": {},
   "outputs": [],
   "source": [
    "df[df[\"inscriptos_total\"]<30]"
   ]
  },
  {
   "cell_type": "code",
   "execution_count": null,
   "metadata": {},
   "outputs": [],
   "source": [
    "df[(df[\"inscriptos_total\"]<30) & (df[\"edad_promedio\"]>40)] # muestra filas si nro. de inscriptos es menor a 30 Y edad promedio mayor a 40"
   ]
  },
  {
   "cell_type": "code",
   "execution_count": null,
   "metadata": {},
   "outputs": [],
   "source": [
    "# También podemos seleccionar según una condición de esta forma:\n",
    "opciones = ['Física', 'Geografía']\n",
    "df[df['asignatura'].isin(opciones)]"
   ]
  },
  {
   "cell_type": "markdown",
   "metadata": {},
   "source": [
    "Para combinar filtros de filas y columas:\n",
    "- `df.loc[filas,columnas]`: mencionamos el **nombre/etiquetas** de las columnas y filas que queremos seleccionar. A diferencia de lo que ocurre con slicing, al usar loc el límite superior SI se incluye.\n",
    "- `df.iloc[filas,columnas]`: mencionamos las **posiciones** (como números enteros) de las columnas y filas que queremos seleccionar. En iloc el límite superior NO se incluye.\n",
    "\n",
    "Nota: muchas veces el label e index de una fila son iguales (numéricos)."
   ]
  },
  {
   "cell_type": "code",
   "execution_count": null,
   "metadata": {},
   "outputs": [],
   "source": [
    "# Veamos la diferencia si usamos slicing, loc o iloc\n",
    "display(df[3:6]) # intervalo [3, 6)\n",
    "display(df.loc[3:6]) # intervalo [3, 6]\n",
    "display(df.iloc[3:6]) # intervalo [3, 6)"
   ]
  },
  {
   "cell_type": "code",
   "execution_count": null,
   "metadata": {},
   "outputs": [],
   "source": [
    "# En el ej. anterior cuando usamos loc usamos números para seleccionar columnas. ¿Por qué? La etiqueta de las filas eran números!\n",
    "# Si nuestro df tuviera etiquetas en las filas, sería distinto, por ejemplo:\n",
    "\n",
    "# Creamos un df con un índice\n",
    "df_label = df[:3]\n",
    "index_ = ['Row_1', 'Row_2', 'Row_3']\n",
    "df_label.index = index_ # seteamos el índice\n",
    "df_label"
   ]
  },
  {
   "cell_type": "code",
   "execution_count": null,
   "metadata": {},
   "outputs": [],
   "source": [
    "#display(df_label.loc[:3]) # ahora usar loc y números da error. hay que usar etiquetas!\n",
    "display(df_label.loc[[\"Row_1\", 'Row_2']]) "
   ]
  },
  {
   "cell_type": "code",
   "execution_count": null,
   "metadata": {},
   "outputs": [],
   "source": [
    "# Seleccionando filas y columnas\n",
    "df.loc[3:4,[\"grupo\",\"asignatura\"]]"
   ]
  },
  {
   "cell_type": "code",
   "execution_count": null,
   "metadata": {},
   "outputs": [],
   "source": [
    "df.iloc[3:5,[0,4]]"
   ]
  },
  {
   "cell_type": "markdown",
   "metadata": {},
   "source": [
    "##### 5) Eliminar duplicados"
   ]
  },
  {
   "cell_type": "markdown",
   "metadata": {},
   "source": [
    "Para eliminar filas y columnas podemos:\n",
    "- \"pisar\" el dataframe con la selección de las filas/columnas que SI queremos guardado una nueva copia sobre la anterior.\n",
    "- usar la función `df.drop()`.\n",
    "La función `.drop()` toma como argumento una lista de labels, y puede usarse para eliminar filas o columnas. Con el parámetro \"axis\" definimos si eliminar filas (axis=0, valor por defecto) o columnas (axis=1)."
   ]
  },
  {
   "cell_type": "code",
   "execution_count": null,
   "metadata": {},
   "outputs": [],
   "source": [
    "df"
   ]
  },
  {
   "cell_type": "code",
   "execution_count": null,
   "metadata": {},
   "outputs": [],
   "source": [
    "# Eliminamos filas\n",
    "df.drop([0,3,12]) # implícitamente llama axis=0\n",
    "\n",
    "# Eliminamos columnas\n",
    "df.drop([\"inscripcion_estado\"], axis=1) # no guarda\n",
    "\n",
    "# Para guardar podemos pisar (df = ...) o usar inplace=True\n",
    "df.drop([\"inscripcion_estado\"], axis=1, inplace = True )\n",
    "display(df)\n",
    "\n",
    "df_cut = df.drop([0,3,12])\n",
    "display(df_cut)"
   ]
  },
  {
   "cell_type": "markdown",
   "metadata": {},
   "source": [
    "##### 6) Concatenar (concat)\n",
    "Python nos permite trabajar con múltiples bases al mismo tiempo. Si queremos agregar un conjunto de bases, **una debajo de la otra**, podemos usar `pd.concat([df_a, df_b])` para concatenar las bases `df_a` y `df_b`."
   ]
  },
  {
   "cell_type": "code",
   "execution_count": null,
   "metadata": {},
   "outputs": [],
   "source": [
    "# Carguemos una recortada de la base\n",
    "df_a = pd.read_excel(\"tabla_ejemplo_3a.xlsx\") # exploren contenido\n",
    "print(df_a.shape)\n",
    "\n",
    "df_b = pd.read_excel(\"tabla_ejemplo_3b.xlsx\") # exploren contenido\n",
    "print(df_b.shape)\n",
    "\n",
    "df = pd.concat([df_a, df_b]) # exploren para ver resultado\n",
    "print(df.shape)"
   ]
  },
  {
   "cell_type": "markdown",
   "metadata": {},
   "source": [
    "Es una buena práctica inspeccionar los resultados después de hacer un `concat` o `merge`. Por ejemplo, luego del `concat`, la indexación de las filas quedó repetida ya que se preservaron los índices de las bases originales. Para arreglar esto:"
   ]
  },
  {
   "cell_type": "code",
   "execution_count": null,
   "metadata": {},
   "outputs": [],
   "source": [
    "# luego del concat()\n",
    "display(df)\n",
    "df.reset_index(drop=True) # index original es descartado"
   ]
  },
  {
   "cell_type": "markdown",
   "metadata": {},
   "source": [
    "##### 7) Join/merge\n",
    "Podemos usar las funciones `.join()` y `.merge()` para **unir horizontalmente** bases con un identificador común. \n",
    "Veamos el caso de `.merge()` (join es similar, lo pueden ver en la [documentación de Pandas](https://pandas.pydata.org/docs/reference/api/pandas.DataFrame.merge.html)).\n",
    "\n",
    "La función merge se aplica con la forma:\n",
    "`df_a.merge(df_b, on=lista_columnas_id, how=tipo_join)`. Donde:\n",
    "* `lista_columnas_id` son los nombres de la/s columna/s por los que vamos a unir las bases. Estas columnas deben encontrarse en ambos DataFrames. Si no se pasa ningún valor (y no se combinand índice, es decir que `left_index` y `right_index` son False), se deducirá que se debe hacer el merge con la intersección de las columnas en los DataFrames.\n",
    "* Los tipos de joins son:\n",
    "    - **left join**: preserva el 100% de las filas que tiene la tabla _de la izquierda_ del merge, y agrega las columnas del dataset _de la derecha_ con los valores (cuando hay una coincidencia) o las llena con valores nulos (cuando no hay coincidencia). Si el dataset de la derecha tiene valores para filas que no están presentes en el dataset de la izquierda, simplemente no se utilizan. El dataset resultado tiene la misma cantidad de filas que el dataset de la izquierda.\n",
    "    - **right join**: es igual que el anterior, pero se preservan las filas del dataset de la derecha en lugar de las del de la izquierda.\n",
    "    - **inner join**: sólo se mantienen aquellas filas que coinciden _en ambos datasets_. Si alguna fila no tiene coincidencia en uno de los dos, se descarta. El dataset final tiene igual cantidad o menos filas que el dataset más grande.\n",
    "    - **outer join**: se preservan todas las filas. Si hay coincidencia, se cruzan, y si no hay coincidencia se apilan llenando con valores nulos.\n",
    "\n",
    "El tipo de join más común que van a utilizar la mayoría de las veces es el **left join**, que se una cuando se tiene una tabla, y se quiere enriquecerla con nuevas columnas.\n",
    "\n",
    "<img src=\"https://miro.medium.com/v2/resize:fit:1200/1*9eH1_7VbTZPZd9jBiGIyNA.png\"\n",
    "     width=400/>"
   ]
  },
  {
   "cell_type": "code",
   "execution_count": null,
   "metadata": {},
   "outputs": [],
   "source": [
    "# Ejemplo de merge\n",
    "print(df.columns)\n",
    "\n",
    "# Abrimos otra base y vemos sus columnas\n",
    "df_c = pd.read_excel(\"tabla_ejemplo_3c.xlsx\") # exploren contenido\n",
    "print(df_c.columns)\n",
    "\n",
    "# Hacemos el merge y vemos sus columnas\n",
    "df = df.merge(df_c) # exploren para ver resultado\n",
    "print(df.columns)\n",
    "df"
   ]
  },
  {
   "cell_type": "markdown",
   "metadata": {},
   "source": [
    "Dependiendo de los datos que estemos usando, o si las bases no están bien curadas, realizar un merge puede generar duplicación de registros.\n",
    "En este caso lo simulamos. Para eliminar registros duplicados:"
   ]
  },
  {
   "cell_type": "code",
   "execution_count": null,
   "metadata": {},
   "outputs": [],
   "source": [
    "display(df.tail(6))\n",
    "df.drop_duplicates(inplace=True)\n",
    "df # cómo quedó el índice de las filas ?"
   ]
  },
  {
   "cell_type": "code",
   "execution_count": null,
   "metadata": {},
   "outputs": [],
   "source": [
    "df.reset_index(drop=True, inplace=True) # inplace guarda el resultado\n",
    "df"
   ]
  },
  {
   "cell_type": "markdown",
   "metadata": {},
   "source": [
    "##### 8) agrupar (aggregate)\n",
    "Una operación frecuente con dataframes es agregar los datos, agrupando sobre un conjunto de variables y aplicando una función de agregación a otras. Con pandas esto se logra usando la función `.groupby()`, de la forma:\n",
    "`df.groupby(by=lista_columnas_agrupamiento).agg(dict_var_func)`\n",
    "\n",
    "Donde lista_columnas_agrupamiento es una lista con los nombres de columnas sobre las que se agrupa, y dict_var_func es un \n",
    "diccionario de variable a agregar (clave) y la función con la que se agrega (valor).\n",
    "\n",
    "Algunas de las funciones de agregación son:\n",
    "- sum\n",
    "- mean\n",
    "- count\n",
    "- first / last\n",
    "- min / max"
   ]
  },
  {
   "cell_type": "code",
   "execution_count": null,
   "metadata": {},
   "outputs": [],
   "source": [
    "# Seguimos con el mismo df ya definido\n",
    "df_agg = df.groupby(by=[\"area\",\"asignatura\"]).agg({\"inscriptos_ronda1\":\"sum\",\"inscriptos_ronda2\":\"sum\",\"edad_promedio\":\"mean\"})\n",
    "\n",
    "# Si observan el resultado verán que las variables de agrupamiento pasan a definir el índice\n",
    "df_agg\n"
   ]
  },
  {
   "cell_type": "code",
   "execution_count": null,
   "metadata": {},
   "outputs": [],
   "source": [
    "# Si queremos que vuelva a ser un índice numérico hacemos:\n",
    "df_agg.reset_index(inplace = True) # drop = False por default\n",
    "# Vean que de esta forma, area y asignatura volvieron a ser columnas de la tabla\n",
    "df_agg"
   ]
  }
 ],
 "metadata": {
  "kernelspec": {
   "display_name": "Python 3 (ipykernel)",
   "language": "python",
   "name": "python3"
  },
  "language_info": {
   "codemirror_mode": {
    "name": "ipython",
    "version": 3
   },
   "file_extension": ".py",
   "mimetype": "text/x-python",
   "name": "python",
   "nbconvert_exporter": "python",
   "pygments_lexer": "ipython3",
   "version": "3.12.4"
  }
 },
 "nbformat": 4,
 "nbformat_minor": 4
}
