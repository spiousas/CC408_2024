{
 "cells": [
  {
   "cell_type": "markdown",
   "metadata": {
    "id": "FjZT3QZcKOuf"
   },
   "source": [
    "# Tutoriales de Big Data\n",
    "## Tutorial 3 - Parte 2\n",
    "\n",
    "El objetivo es graficar con matplotlib."
   ]
  },
  {
   "cell_type": "markdown",
   "metadata": {},
   "source": [
    "Matplotlib es la librería base de graficación, sobre la cual se montan otras librerías. Dentro de Matplotlib, usamos la dependencia \"pyplot\" que se instala con la librería. Por convención importamos así:"
   ]
  },
  {
   "cell_type": "code",
   "execution_count": null,
   "metadata": {},
   "outputs": [],
   "source": [
    "#!pip install matplotlib\n",
    "import matplotlib.pyplot as plt # importamos la librería gráfica. plt es el nombre por convención que se le asigna"
   ]
  },
  {
   "cell_type": "markdown",
   "metadata": {},
   "source": [
    "Matplotlib genera los gráficos sobre dos objetos interrelacionados:\n",
    "- **Figure**: la hoja en blanco, el recuadro que contiene hacia adentro el/los gráfico/s. En términos prácticos esto ocurre detrás de escenas, pero es lo que permite dibujar el gráfico.\n",
    "- **Axes**: el gráfico en sí, los ejes y la informacíon graficada. La representación de la información sobre ejes."
   ]
  },
  {
   "cell_type": "markdown",
   "metadata": {},
   "source": [
    "Las partes de un gráfico:\n",
    "\n",
    "<img src=\"https://matplotlib.org/stable/_images/anatomy.png\"\n",
    "     width=500/>"
   ]
  },
  {
   "cell_type": "markdown",
   "metadata": {},
   "source": [
    "Hay esencialmente dos maneras de graficar con Matplotlib:\n",
    "- **Estilo pyplot**: simple y rápida para figuras que no son muy avanzadas. Quizás más fácil para empezar.\n",
    "- **Estilo orientado-objetos**: un poco más complejo pero necesario para figuras que requieren mucha customización.\n",
    "\n",
    "En cuanto al resultado estético, con ambos se puede lograr la misma calidad. Para dar los primeros pasos es indistinto cual se use. Sin embargo, el estilo orientado a objetos es necesario para figuras más complejas donde hay varios gráficos (subplots) y es necesario definir parámetros distintos para cada par de ejes (2D)"
   ]
  },
  {
   "cell_type": "markdown",
   "metadata": {
    "id": "_wHJy23yKOuh"
   },
   "source": [
    "### Graficar con matplotlib"
   ]
  },
  {
   "cell_type": "code",
   "execution_count": null,
   "metadata": {
    "executionInfo": {
     "elapsed": 1094,
     "status": "ok",
     "timestamp": 1661282643386,
     "user": {
      "displayName": "Belén Michel Torino",
      "userId": "16232771333703850174"
     },
     "user_tz": 240
    },
    "id": "nrMwI5vWKOuh"
   },
   "outputs": [],
   "source": [
    "import matplotlib.pyplot as plt\n",
    "import pandas as pd"
   ]
  },
  {
   "cell_type": "code",
   "execution_count": null,
   "metadata": {},
   "outputs": [],
   "source": [
    "import os\n",
    "os.chdir(\"/Volumes/GoogleDrive-111652351013091046884/My Drive/Docencia/Ciencia de Datos/Tutorial 2024/Tutorial 3\")"
   ]
  },
  {
   "cell_type": "code",
   "execution_count": null,
   "metadata": {
    "colab": {
     "base_uri": "https://localhost:8080/",
     "height": 353
    },
    "executionInfo": {
     "elapsed": 289,
     "status": "error",
     "timestamp": 1661282644488,
     "user": {
      "displayName": "Belén Michel Torino",
      "userId": "16232771333703850174"
     },
     "user_tz": 240
    },
    "id": "JCYTjWGHKOui",
    "outputId": "4b13c0cd-44ad-47f2-d28e-9a79fc39c177"
   },
   "outputs": [],
   "source": [
    "# Abrimos el archivo de potencia energética instalada en el país\n",
    "df = pd.read_excel(\"potencia_instalada.xlsx\")\n",
    "# exploren la base\n",
    "df"
   ]
  },
  {
   "cell_type": "code",
   "execution_count": null,
   "metadata": {
    "id": "XdiLXPy2KOui",
    "outputId": "b96cd9f3-7cb1-4f18-bc49-8a3ec1d1fb5c"
   },
   "outputs": [],
   "source": [
    "# Agregamos (collapse) a nivel de tipo de fuente\n",
    "df_fuente = df.groupby(by=[\"periodo\",\"fuente_generacion\"]).agg({\"potencia_instalada_mw\":\"sum\"})\n",
    "df_fuente.reset_index(inplace=True)\n",
    "df_fuente.sample(5)"
   ]
  },
  {
   "cell_type": "code",
   "execution_count": null,
   "metadata": {
    "id": "NJ9utAqzKOuj",
    "outputId": "8bd123af-e0ba-4bc9-be38-52f1a3cb02ee"
   },
   "outputs": [],
   "source": [
    "df_fuente.shape"
   ]
  },
  {
   "cell_type": "markdown",
   "metadata": {},
   "source": [
    "Vamos a graficar dos líneas, así que definimos vector X e Y para cada una. Vamos a graficar la potencia instalada de generación por fuente Renovable y fuente Térmica:"
   ]
  },
  {
   "cell_type": "code",
   "execution_count": null,
   "metadata": {
    "id": "jhirJJclKOuk"
   },
   "outputs": [],
   "source": [
    "# Definimos  vectores  de datos  para  serie 1 (renovable)\n",
    "y1 = df_fuente[df_fuente[\"fuente_generacion\"]==\"Renovable\"][\"potencia_instalada_mw\"]\n",
    "x1 = df_fuente[df_fuente[\"fuente_generacion\"]==\"Renovable\"][\"periodo\"]\n",
    "# Definimos  vectores  de datos  para  serie 2 (térmica)\n",
    "y2 = df_fuente[df_fuente[\"fuente_generacion\"]==\"Térmica\"][\"potencia_instalada_mw\"]\n",
    "x2 = df_fuente[df_fuente[\"fuente_generacion\"]==\"Térmica\"][\"periodo\"]\n",
    "\n",
    "# Nota: df[condicion][columna] selecciona la \"columna\" de la base que resulta de aplicar el filtro df[condicion]."
   ]
  },
  {
   "cell_type": "code",
   "execution_count": null,
   "metadata": {
    "id": "Jriw9yo0KOul",
    "outputId": "439d3efc-8ea0-4cc0-a6d4-a815a549946c"
   },
   "outputs": [],
   "source": [
    "# Creamos el gráfico al estilo pyplot\n",
    "\n",
    "plt.plot(x1, y1, label=\"Renovable\") # serie 1\n",
    "plt.plot(x2, y2, label=\"Térmica\") # serie 2\n",
    "# Estas  dos  líneas  estaran  sobre  el mismo  gráfico\n",
    "\n",
    "# Modifico  labels\n",
    "plt.xlabel(\"Período\")\n",
    "plt.ylabel(\"Potencia  Instalada (MW)\")\n",
    "plt.title(\"Producción Energética Argentina según Fuente\")\n",
    "\n",
    "# Agrego  leyenda\n",
    "plt.legend()\n",
    "plt.show() #esto es necesario para visualizar"
   ]
  },
  {
   "cell_type": "code",
   "execution_count": null,
   "metadata": {
    "id": "GBdj3IlTKOum",
    "outputId": "e58796c6-687e-4229-ccfd-373f4f1352d5"
   },
   "outputs": [],
   "source": [
    "# Creamos el gráfico al estilo OO\n",
    "\n",
    "# Creamos la figura y los axes\n",
    "fig, ax = plt.subplots() # crear objetos\n",
    "\n",
    "# Definimos series\n",
    "ax.plot(x1, y1, label=\"Renovable\") # Serie \n",
    "ax.plot(x2, y2, label=\"Térmica\") # Serie 2\n",
    "\n",
    "# Modificamos labels y título\n",
    "ax.set_xlabel(\"Período\")\n",
    "ax.set_ylabel(\"Potencia  Instalada (MW)\")\n",
    "ax.set_title(\"Producción Energética Argentina según Fuente (v2)\")\n",
    "\n",
    "# Agregamos leyenda\n",
    "ax.legend()\n",
    "fig.show()"
   ]
  },
  {
   "cell_type": "code",
   "execution_count": null,
   "metadata": {
    "id": "bFHB0axvKOum",
    "outputId": "5cd4d1c0-5cbe-408c-8060-0db99a254b5d"
   },
   "outputs": [],
   "source": [
    "# Graficar múltiples gráficos estilo pyplot\n",
    "\n",
    "# ejemplo 2 ax en un fig\n",
    "plt.figure(figsize=(14, 5))\n",
    "\n",
    "# Definimos primer gráfico\n",
    "plt.subplot(121) # subplot(nrows, ncols, index, **kwargs) donde nrows=1, ncols=2, index=1\n",
    "plt.plot(x1, y1)\n",
    "plt.title(\"Fuente Renovable\")\n",
    "\n",
    "# Definimos segundo gráfico\n",
    "plt.subplot(122)\n",
    "plt.plot(x2, y2)\n",
    "plt.title(\"Fuente Térmica\")\n",
    "\n",
    "# Definimos título general de la figura\n",
    "plt.suptitle(\"Ejemplo dos gráficos en una figura\")\n",
    "plt.show()"
   ]
  },
  {
   "cell_type": "code",
   "execution_count": null,
   "metadata": {
    "id": "bFHB0axvKOum",
    "outputId": "5cd4d1c0-5cbe-408c-8060-0db99a254b5d"
   },
   "outputs": [],
   "source": [
    "# Graficar múltiples gráficos estilo O-O\n",
    "\n",
    "# ejemplo 2 ax en un fig\n",
    "fig, ax = plt.subplots(figsize=(14, 5), ncols=2, nrows=1)\n",
    "\n",
    "# Definimos primer gráfico\n",
    "ax[0].plot(x1, y1)\n",
    "ax[0].set_title(\"Fuente Renovable\")\n",
    "\n",
    "# Definimos segundo gráfico\n",
    "ax[1].plot(x2, y2)\n",
    "ax[1].set_title(\"Fuente Térmica\")\n",
    "\n",
    "# Definimos título general de la figura\n",
    "fig.suptitle(\"Ejemplo dos gráficos en una figura\")\n",
    "fig.show()"
   ]
  },
  {
   "cell_type": "markdown",
   "metadata": {},
   "source": [
    "### Otro ejemplo usando API del Banco Mundial\n",
    "\n",
    "Aprovechemos también para practicr un poco el uso de APIs para obtener los datos. Vamos a usar la API del Banco Mundial, a la que podemos acceder con las funciones dle módulo `wbdata` (lo instalan con `pip install wbdata`). Pueden ver la documentación del módulo [acá](https://wbdata.readthedocs.io/en/stable/)"
   ]
  },
  {
   "cell_type": "code",
   "execution_count": null,
   "metadata": {
    "id": "TqCF9R9AKOuq"
   },
   "outputs": [],
   "source": [
    "#!pip install wbdata\n",
    "import wbdata\n",
    "import pandas as pd"
   ]
  },
  {
   "cell_type": "code",
   "execution_count": null,
   "metadata": {},
   "outputs": [],
   "source": [
    "# Podemos ver todos los datos disponibles\n",
    "wbdata.get_sources()"
   ]
  },
  {
   "cell_type": "markdown",
   "metadata": {},
   "source": [
    "Vamos a ver los indicadores de género, es decir, la fuente 14."
   ]
  },
  {
   "cell_type": "code",
   "execution_count": null,
   "metadata": {},
   "outputs": [],
   "source": [
    "# Para este ejemplo vamos a usar source 14: indicadores de género\n",
    "wbdata.get_indicators(source=14)"
   ]
  },
  {
   "cell_type": "markdown",
   "metadata": {},
   "source": [
    "Si buscamos en la salida de la celda anterior podemos encontrar unos indicadores de educación que se llaman Harmonized Test Scores. Esto dice los detalles de la página del Banco Mundial sobre ellos:\n",
    "\n",
    "> Harmonized test scores from major international student achievement testing programs.They are measured in TIMSS-equivalent units, where 300 is minimal attainment and 625 is advanced attainment. Most recent estimates are used. Year of most recent estimate shown in data notes. Test scores from the following testing programs are included: • TIMSS/PIRLS: Refers to average of test scores from TIMSS (Trends in International Maths and Science Study) and PIRLS (Progress in International Reading Literacy Study), both carried out by the International Association for the Evaluation of Educational Achievement. Data from each PIRLS round is moved to the year of the nearest TIMSS round and averaged with the TIMSS data. • PISA: Refers to test scores from Programme for International Student Assessment • PISA+TIMSS/PIRLS: Refers to the average of these programs for countries and years where both are available • SACMEQ: Refers to test scores from Southern and Eastern Africa Consortium for Monitoring Educational Quality • PASEC: Refers to test scores from Program of Analysis of Education Systems • LLECE: Refers to test scores from Latin American Laboratory for Assessment of the Quality of Education • PILNA: Refers to test scores from Pacific Islands Literacy and Numeracy Assessment • EGRA: Refers to test scores from nationally-representative Early Grade Reading Assessments • EGRANR: Refers to test scores from non-nationally-representative Early Grade Reading Assessments\n",
    "\n",
    "Entiendo que en Argentina son los resultados de las pruebas PISA, pero pueden encontrar más detalle [acá](https://www.nature.com/articles/s41586-021-03323-7)."
   ]
  },
  {
   "cell_type": "code",
   "execution_count": null,
   "metadata": {},
   "outputs": [],
   "source": [
    "indicadores = {'HD.HCI.HLOS.FE':'scores_edu_fem','HD.HCI.HLOS.MA':'scores_edu_masc'}\n",
    "#HD.HCI.HLOS.FE                   Harmonized Test Scores, Female\n",
    "#HD.HCI.HLOS.MA                   Harmonized Test Scores, Male\n",
    "data = wbdata.get_dataframe(indicadores, country=['USA','ARG'])\n",
    "\n",
    "df = pd.DataFrame(data=data)\n",
    "df.head()"
   ]
  },
  {
   "cell_type": "code",
   "execution_count": null,
   "metadata": {},
   "outputs": [],
   "source": [
    "df"
   ]
  },
  {
   "cell_type": "code",
   "execution_count": null,
   "metadata": {},
   "outputs": [],
   "source": [
    "ax = df.plot(kind='bar', title='Puntaje en educación')\n",
    "ax.set_xlabel('País-Año',color='grey')\n",
    "ax.set_ylabel('Puntaje',color='grey')\n",
    "ax.legend([\"Mujeres\",\"Varones\"])\n",
    "# Acá estamos usando el index del df como xticklabels"
   ]
  },
  {
   "cell_type": "markdown",
   "metadata": {},
   "source": [
    "Ahora buscamos hacer un gráfico solo con datos del año 2020"
   ]
  },
  {
   "cell_type": "code",
   "execution_count": null,
   "metadata": {},
   "outputs": [],
   "source": [
    "# Dejamos índice como columnas\n",
    "df.reset_index(inplace=True)\n",
    "df"
   ]
  },
  {
   "cell_type": "code",
   "execution_count": null,
   "metadata": {},
   "outputs": [],
   "source": [
    "print(df[\"date\"].dtype) # no es numérica\n",
    "df_2020 = df[df[\"date\"]==\"2020\"]\n",
    "df_2020"
   ]
  },
  {
   "cell_type": "code",
   "execution_count": null,
   "metadata": {},
   "outputs": [],
   "source": [
    "df_2020 = df_2020.set_index([\"country\", \"date\"])\n",
    "df_2020"
   ]
  },
  {
   "cell_type": "code",
   "execution_count": null,
   "metadata": {},
   "outputs": [],
   "source": [
    "# Graficamos\n",
    "ax = df_2020.plot(kind='bar', title='Puntaje en educación')\n",
    "ax.set_xlabel('País-Año',color='grey')\n",
    "ax.set_ylabel('Puntaje',color='grey')\n",
    "ax.tick_params(axis=\"x\", rotation=0)\n",
    "ax.legend([\"Mujeres\",\"Varones\"])"
   ]
  }
 ],
 "metadata": {
  "colab": {
   "name": "Tutorial4.ipynb",
   "provenance": []
  },
  "kernelspec": {
   "display_name": "Python 3 (ipykernel)",
   "language": "python",
   "name": "python3"
  },
  "language_info": {
   "codemirror_mode": {
    "name": "ipython",
    "version": 3
   },
   "file_extension": ".py",
   "mimetype": "text/x-python",
   "name": "python",
   "nbconvert_exporter": "python",
   "pygments_lexer": "ipython3",
   "version": "3.11.9"
  },
  "varInspector": {
   "cols": {
    "lenName": 16,
    "lenType": 16,
    "lenVar": 40
   },
   "kernels_config": {
    "python": {
     "delete_cmd_postfix": "",
     "delete_cmd_prefix": "del ",
     "library": "var_list.py",
     "varRefreshCmd": "print(var_dic_list())"
    },
    "r": {
     "delete_cmd_postfix": ") ",
     "delete_cmd_prefix": "rm(",
     "library": "var_list.r",
     "varRefreshCmd": "cat(var_dic_list()) "
    }
   },
   "types_to_exclude": [
    "module",
    "function",
    "builtin_function_or_method",
    "instance",
    "_Feature"
   ],
   "window_display": false
  },
  "widgets": {
   "application/vnd.jupyter.widget-state+json": {
    "4c6b2da7d7b041ce8d6a49dceba48670": {
     "model_module": "@jupyter-widgets/controls",
     "model_module_version": "1.5.0",
     "model_name": "DescriptionStyleModel",
     "state": {
      "_model_module": "@jupyter-widgets/controls",
      "_model_module_version": "1.5.0",
      "_model_name": "DescriptionStyleModel",
      "_view_count": null,
      "_view_module": "@jupyter-widgets/base",
      "_view_module_version": "1.2.0",
      "_view_name": "StyleView",
      "description_width": ""
     }
    },
    "5ece28cc8e5743c3a107c5fb1401947b": {
     "model_module": "@jupyter-widgets/controls",
     "model_module_version": "1.5.0",
     "model_name": "ToggleButtonModel",
     "state": {
      "_dom_classes": [],
      "_model_module": "@jupyter-widgets/controls",
      "_model_module_version": "1.5.0",
      "_model_name": "ToggleButtonModel",
      "_view_count": null,
      "_view_module": "@jupyter-widgets/controls",
      "_view_module_version": "1.5.0",
      "_view_name": "ToggleButtonView",
      "button_style": "",
      "description": "Show code",
      "description_tooltip": null,
      "disabled": false,
      "icon": "",
      "layout": "IPY_MODEL_d21ed9b6131846e7b852cc4c958148b3",
      "style": "IPY_MODEL_4c6b2da7d7b041ce8d6a49dceba48670",
      "tooltip": "",
      "value": false
     }
    },
    "d21ed9b6131846e7b852cc4c958148b3": {
     "model_module": "@jupyter-widgets/base",
     "model_module_version": "1.2.0",
     "model_name": "LayoutModel",
     "state": {
      "_model_module": "@jupyter-widgets/base",
      "_model_module_version": "1.2.0",
      "_model_name": "LayoutModel",
      "_view_count": null,
      "_view_module": "@jupyter-widgets/base",
      "_view_module_version": "1.2.0",
      "_view_name": "LayoutView",
      "align_content": null,
      "align_items": null,
      "align_self": null,
      "border": null,
      "bottom": null,
      "display": null,
      "flex": null,
      "flex_flow": null,
      "grid_area": null,
      "grid_auto_columns": null,
      "grid_auto_flow": null,
      "grid_auto_rows": null,
      "grid_column": null,
      "grid_gap": null,
      "grid_row": null,
      "grid_template_areas": null,
      "grid_template_columns": null,
      "grid_template_rows": null,
      "height": null,
      "justify_content": null,
      "justify_items": null,
      "left": null,
      "margin": null,
      "max_height": null,
      "max_width": null,
      "min_height": null,
      "min_width": null,
      "object_fit": null,
      "object_position": null,
      "order": null,
      "overflow": null,
      "overflow_x": null,
      "overflow_y": null,
      "padding": null,
      "right": null,
      "top": null,
      "visibility": null,
      "width": null
     }
    }
   }
  }
 },
 "nbformat": 4,
 "nbformat_minor": 1
}
