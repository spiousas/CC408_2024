{
 "cells": [
  {
   "cell_type": "markdown",
   "id": "c9cd4589",
   "metadata": {
    "id": "c9cd4589"
   },
   "source": [
    "# Tutorial de Ciencia de Datos (CC408) 2024"
   ]
  },
  {
   "cell_type": "markdown",
   "id": "a7938cc1",
   "metadata": {
    "id": "a7938cc1"
   },
   "source": [
    "## Tutorial 10 - Bonus: Funciones"
   ]
  },
  {
   "cell_type": "markdown",
   "id": "b60b3b0d",
   "metadata": {
    "id": "b60b3b0d"
   },
   "source": [
    "**Objetivo**: revisar algunas técnicas de programación para simplificar nuestro código en el futuro y aprender a iterar sobre modelos"
   ]
  },
  {
   "cell_type": "markdown",
   "id": "619f5c0a",
   "metadata": {
    "id": "619f5c0a"
   },
   "source": [
    "#### Importamos los módulos necesarios"
   ]
  },
  {
   "cell_type": "code",
   "execution_count": 14,
   "id": "4a78d007",
   "metadata": {
    "id": "4a78d007",
    "outputId": "046b9e64-3a84-4f05-83a6-431204e277b1"
   },
   "outputs": [],
   "source": [
    "import os  \n",
    "import pandas as pd\n",
    "import numpy as np \n",
    "import matplotlib.pyplot as plt  \n",
    "import statsmodels.api as sm     \n",
    "import seaborn as sns\n",
    "\n",
    "from sklearn import datasets\n",
    "from sklearn.linear_model import LogisticRegression\n",
    "from sklearn.model_selection import train_test_split\n",
    "from sklearn.metrics import confusion_matrix\n",
    "from sklearn.metrics import accuracy_score \n",
    "from sklearn.metrics import roc_curve\n",
    "from sklearn.metrics import roc_auc_score\n",
    "from sklearn.metrics import RocCurveDisplay\n",
    "from sklearn.discriminant_analysis import LinearDiscriminantAnalysis\n",
    "from sklearn.discriminant_analysis import LinearDiscriminantAnalysis\n",
    "from sklearn.discriminant_analysis import QuadraticDiscriminantAnalysis\n",
    "from sklearn.neighbors import KNeighborsClassifier"
   ]
  },
  {
   "cell_type": "code",
   "execution_count": 9,
   "id": "647c9253",
   "metadata": {
    "id": "647c9253"
   },
   "outputs": [],
   "source": [
    "eph_file = \"usu_individual_T124.xlsx\"\n",
    "ad_equiv_xls = \"tabla_adulto_equiv.xlsx\""
   ]
  },
  {
   "cell_type": "code",
   "execution_count": 16,
   "id": "f9521f72",
   "metadata": {},
   "outputs": [
    {
     "name": "stdout",
     "output_type": "stream",
     "text": [
      "<class 'pandas.core.frame.DataFrame'>\n",
      "RangeIndex: 46050 entries, 0 to 46049\n",
      "Columns: 177 entries, CODUSU to PONDIH\n",
      "dtypes: float64(106), int64(66), object(5)\n",
      "memory usage: 62.2+ MB\n",
      "None\n",
      "\n",
      "Número de filas: 46050\n",
      "Número de columnas: 177\n",
      "                          CODUSU  ANO4  TRIMESTRE  NRO_HOGAR  COMPONENTE  H15  \\\n",
      "0  TQRMNOPUTHLMKQCDEGGFB00852588  2024          1          1           3    1   \n",
      "1  TQRMNOPUTHLMKQCDEGGFB00852588  2024          1          1           4    1   \n",
      "2  TQRMNOPUTHLMKQCDEGGFB00852588  2024          1          1           5    0   \n",
      "3  TQRMNOPPWHLLKRCDEGGFB00852574  2024          1          1           1    1   \n",
      "4  TQRMNOPPWHLLKRCDEGGFB00852574  2024          1          1           2    1   \n",
      "\n",
      "   REGION MAS_500  AGLOMERADO  PONDERA  ...  PDECIFR  ADECIFR      IPCF  \\\n",
      "0      42       S          10      439  ...      NaN       12       0.0   \n",
      "1      42       S          10      439  ...      NaN       12       0.0   \n",
      "2      42       S          10      439  ...      NaN       12       0.0   \n",
      "3      42       S          10      675  ...      NaN        8  212500.0   \n",
      "4      42       S          10      675  ...      NaN        8  212500.0   \n",
      "\n",
      "   DECCFR  IDECCFR  RDECCFR  GDECCFR  PDECCFR  ADECCFR  PONDIH  \n",
      "0      12     12.0       12     12.0      NaN       12       0  \n",
      "1      12     12.0       12     12.0      NaN       12       0  \n",
      "2      12     12.0       12     12.0      NaN       12       0  \n",
      "3       6      6.0        6      6.0      NaN        6    1610  \n",
      "4       6      6.0        6      6.0      NaN        6    1610  \n",
      "\n",
      "[5 rows x 177 columns]\n"
     ]
    }
   ],
   "source": [
    "# Abrir la base\n",
    "eph = pd.read_excel(eph_file)\n",
    "\n",
    "# Examinamos la base\n",
    "print(eph.info()) \n",
    "\n",
    "# Dimensiones (nro. de filas y de columnas)\n",
    "num_rows, num_columns = eph.shape\n",
    "\n",
    "print(f\"\\nNúmero de filas: {num_rows}\") #46050 obs\n",
    "print(f\"Número de columnas: {num_columns}\")\n",
    "\n",
    "print(\"\\n\", eph.head()) "
   ]
  },
  {
   "cell_type": "markdown",
   "id": "0b5d15de",
   "metadata": {},
   "source": []
  },
  {
   "cell_type": "code",
   "execution_count": 17,
   "id": "850204b4",
   "metadata": {},
   "outputs": [
    {
     "data": {
      "text/html": [
       "<div>\n",
       "<style scoped>\n",
       "    .dataframe tbody tr th:only-of-type {\n",
       "        vertical-align: middle;\n",
       "    }\n",
       "\n",
       "    .dataframe tbody tr th {\n",
       "        vertical-align: top;\n",
       "    }\n",
       "\n",
       "    .dataframe thead th {\n",
       "        text-align: right;\n",
       "    }\n",
       "</style>\n",
       "<table border=\"1\" class=\"dataframe\">\n",
       "  <thead>\n",
       "    <tr style=\"text-align: right;\">\n",
       "      <th></th>\n",
       "      <th>CODUSU</th>\n",
       "      <th>ANO4</th>\n",
       "      <th>TRIMESTRE</th>\n",
       "      <th>NRO_HOGAR</th>\n",
       "      <th>COMPONENTE</th>\n",
       "      <th>H15</th>\n",
       "      <th>REGION</th>\n",
       "      <th>MAS_500</th>\n",
       "      <th>AGLOMERADO</th>\n",
       "      <th>PONDERA</th>\n",
       "      <th>...</th>\n",
       "      <th>PDECIFR</th>\n",
       "      <th>ADECIFR</th>\n",
       "      <th>IPCF</th>\n",
       "      <th>DECCFR</th>\n",
       "      <th>IDECCFR</th>\n",
       "      <th>RDECCFR</th>\n",
       "      <th>GDECCFR</th>\n",
       "      <th>PDECCFR</th>\n",
       "      <th>ADECCFR</th>\n",
       "      <th>PONDIH</th>\n",
       "    </tr>\n",
       "  </thead>\n",
       "  <tbody>\n",
       "    <tr>\n",
       "      <th>0</th>\n",
       "      <td>TQRMNOPUTHLMKQCDEGGFB00852588</td>\n",
       "      <td>2024</td>\n",
       "      <td>1</td>\n",
       "      <td>1</td>\n",
       "      <td>3</td>\n",
       "      <td>1</td>\n",
       "      <td>42</td>\n",
       "      <td>S</td>\n",
       "      <td>10</td>\n",
       "      <td>439</td>\n",
       "      <td>...</td>\n",
       "      <td>NaN</td>\n",
       "      <td>12</td>\n",
       "      <td>0.0</td>\n",
       "      <td>12</td>\n",
       "      <td>12.0</td>\n",
       "      <td>12</td>\n",
       "      <td>12.0</td>\n",
       "      <td>NaN</td>\n",
       "      <td>12</td>\n",
       "      <td>0</td>\n",
       "    </tr>\n",
       "    <tr>\n",
       "      <th>1</th>\n",
       "      <td>TQRMNOPUTHLMKQCDEGGFB00852588</td>\n",
       "      <td>2024</td>\n",
       "      <td>1</td>\n",
       "      <td>1</td>\n",
       "      <td>4</td>\n",
       "      <td>1</td>\n",
       "      <td>42</td>\n",
       "      <td>S</td>\n",
       "      <td>10</td>\n",
       "      <td>439</td>\n",
       "      <td>...</td>\n",
       "      <td>NaN</td>\n",
       "      <td>12</td>\n",
       "      <td>0.0</td>\n",
       "      <td>12</td>\n",
       "      <td>12.0</td>\n",
       "      <td>12</td>\n",
       "      <td>12.0</td>\n",
       "      <td>NaN</td>\n",
       "      <td>12</td>\n",
       "      <td>0</td>\n",
       "    </tr>\n",
       "    <tr>\n",
       "      <th>2</th>\n",
       "      <td>TQRMNOPUTHLMKQCDEGGFB00852588</td>\n",
       "      <td>2024</td>\n",
       "      <td>1</td>\n",
       "      <td>1</td>\n",
       "      <td>5</td>\n",
       "      <td>0</td>\n",
       "      <td>42</td>\n",
       "      <td>S</td>\n",
       "      <td>10</td>\n",
       "      <td>439</td>\n",
       "      <td>...</td>\n",
       "      <td>NaN</td>\n",
       "      <td>12</td>\n",
       "      <td>0.0</td>\n",
       "      <td>12</td>\n",
       "      <td>12.0</td>\n",
       "      <td>12</td>\n",
       "      <td>12.0</td>\n",
       "      <td>NaN</td>\n",
       "      <td>12</td>\n",
       "      <td>0</td>\n",
       "    </tr>\n",
       "    <tr>\n",
       "      <th>3</th>\n",
       "      <td>TQRMNOPPWHLLKRCDEGGFB00852574</td>\n",
       "      <td>2024</td>\n",
       "      <td>1</td>\n",
       "      <td>1</td>\n",
       "      <td>1</td>\n",
       "      <td>1</td>\n",
       "      <td>42</td>\n",
       "      <td>S</td>\n",
       "      <td>10</td>\n",
       "      <td>675</td>\n",
       "      <td>...</td>\n",
       "      <td>NaN</td>\n",
       "      <td>8</td>\n",
       "      <td>212500.0</td>\n",
       "      <td>6</td>\n",
       "      <td>6.0</td>\n",
       "      <td>6</td>\n",
       "      <td>6.0</td>\n",
       "      <td>NaN</td>\n",
       "      <td>6</td>\n",
       "      <td>1610</td>\n",
       "    </tr>\n",
       "    <tr>\n",
       "      <th>4</th>\n",
       "      <td>TQRMNOPPWHLLKRCDEGGFB00852574</td>\n",
       "      <td>2024</td>\n",
       "      <td>1</td>\n",
       "      <td>1</td>\n",
       "      <td>2</td>\n",
       "      <td>1</td>\n",
       "      <td>42</td>\n",
       "      <td>S</td>\n",
       "      <td>10</td>\n",
       "      <td>675</td>\n",
       "      <td>...</td>\n",
       "      <td>NaN</td>\n",
       "      <td>8</td>\n",
       "      <td>212500.0</td>\n",
       "      <td>6</td>\n",
       "      <td>6.0</td>\n",
       "      <td>6</td>\n",
       "      <td>6.0</td>\n",
       "      <td>NaN</td>\n",
       "      <td>6</td>\n",
       "      <td>1610</td>\n",
       "    </tr>\n",
       "  </tbody>\n",
       "</table>\n",
       "<p>5 rows × 177 columns</p>\n",
       "</div>"
      ],
      "text/plain": [
       "                          CODUSU  ANO4  TRIMESTRE  NRO_HOGAR  COMPONENTE  H15  \\\n",
       "0  TQRMNOPUTHLMKQCDEGGFB00852588  2024          1          1           3    1   \n",
       "1  TQRMNOPUTHLMKQCDEGGFB00852588  2024          1          1           4    1   \n",
       "2  TQRMNOPUTHLMKQCDEGGFB00852588  2024          1          1           5    0   \n",
       "3  TQRMNOPPWHLLKRCDEGGFB00852574  2024          1          1           1    1   \n",
       "4  TQRMNOPPWHLLKRCDEGGFB00852574  2024          1          1           2    1   \n",
       "\n",
       "   REGION MAS_500  AGLOMERADO  PONDERA  ...  PDECIFR  ADECIFR      IPCF  \\\n",
       "0      42       S          10      439  ...      NaN       12       0.0   \n",
       "1      42       S          10      439  ...      NaN       12       0.0   \n",
       "2      42       S          10      439  ...      NaN       12       0.0   \n",
       "3      42       S          10      675  ...      NaN        8  212500.0   \n",
       "4      42       S          10      675  ...      NaN        8  212500.0   \n",
       "\n",
       "   DECCFR  IDECCFR  RDECCFR  GDECCFR  PDECCFR  ADECCFR  PONDIH  \n",
       "0      12     12.0       12     12.0      NaN       12       0  \n",
       "1      12     12.0       12     12.0      NaN       12       0  \n",
       "2      12     12.0       12     12.0      NaN       12       0  \n",
       "3       6      6.0        6      6.0      NaN        6    1610  \n",
       "4       6      6.0        6      6.0      NaN        6    1610  \n",
       "\n",
       "[5 rows x 177 columns]"
      ]
     },
     "execution_count": 17,
     "metadata": {},
     "output_type": "execute_result"
    }
   ],
   "source": [
    "eph.head()"
   ]
  },
  {
   "cell_type": "code",
   "execution_count": 11,
   "id": "e265a7f0",
   "metadata": {},
   "outputs": [],
   "source": [
    "def preprocesar_eph(eph_file, ad_equiv_xls):    \n",
    "   \n",
    "    '''\n",
    "    Preprocesamiento de la EPH:\n",
    "        - filtrar solo valores de GBA y CABA\n",
    "        - filtrar solo valores con sentido\n",
    "        - armar bases respondieron y no respondieron\n",
    "    params:\n",
    "      eph_file: ruta al archivo de la EPH\n",
    "      ad_equiv_xls: ruta al archivo con la tabla de adultos equivalentes\n",
    "    \n",
    "    return:\n",
    "      respondieron, norespondieron\n",
    "    ''' \n",
    "\n",
    "    eph = pd.read_excel(eph_file)\n",
    "    \n",
    "    # Solo GBA y CABA\n",
    "    eph_ba = eph.loc[eph['AGLOMERADO'].isin([32,33])]\n",
    "    # Describe\n",
    "    eph_ba[[\"CH04\", \"CH07\", \"CH08\", \"NIVEL_ED\", \"ESTADO\", \"CAT_INAC\", \"IPCF\", \"ITF\", \"CH06\"]].describe()\n",
    "    \n",
    "    # Filtrar valores sin sentido\n",
    "    eph_ba_filtrada=eph_ba[(eph_ba[\"CH06\"]>0)]\n",
    "    eph_ba_filtrada[[\"CH04\", \"CH07\", \"CH08\", \"NIVEL_ED\", \"ESTADO\", \"CAT_INAC\", \"IPCF\", \"ITF\", \"CH06\"]].describe()\n",
    "    \n",
    "    tabla = pd.read_excel(ad_equiv_xls)\n",
    "    eph_ba_filtrada = eph_ba_filtrada.merge(tabla, on=[\"CH04\", \"CH06\"], how=\"left\")\n",
    "    \n",
    "    ad_equiv_hogar = eph_ba_filtrada[[\"ad_equiv\", \"CODUSU\", \"NRO_HOGAR\"]].groupby(by=[\"CODUSU\", \"NRO_HOGAR\"]).agg({\"ad_equiv\":\"sum\"})\n",
    "    ad_equiv_hogar.reset_index(inplace = True)\n",
    "    ad_equiv_hogar.rename({\"ad_equiv\" : \"ad_equiv_hogar\"}, inplace = True, axis=\"columns\")\n",
    "    \n",
    "    eph_ba_filtrada = eph_ba_filtrada.merge(ad_equiv_hogar, on=[\"CODUSU\", \"NRO_HOGAR\"], how=\"left\")\n",
    "    \n",
    "    respondieron = eph_ba_filtrada[eph_ba_filtrada[\"ITF\"] != 0]\n",
    "    respondieron[\"ingreso_necesario\"] = 132853.3 * respondieron[\"ad_equiv_hogar\"]\n",
    "    respondieron[\"pobre\"] = np.where(respondieron[\"ITF\"] < respondieron[\"ingreso_necesario\"], 1, 0)\n",
    "    \n",
    "    no_respondieron = eph_ba_filtrada[eph_ba_filtrada[\"ITF\"] == 0]\n",
    "    \n",
    "    return respondieron, no_respondieron"
   ]
  },
  {
   "cell_type": "code",
   "execution_count": 12,
   "id": "51c91215",
   "metadata": {},
   "outputs": [],
   "source": [
    "def generar_base_prediccion(df):\n",
    "\n",
    "    '''\n",
    "      params:\n",
    "        df: DataFrame de Pandas con la EPH preprocesada. \n",
    "      return:\n",
    "        Si df contiene una columna llamada \"pobre\" devuelve dos datasets: X (los predictores) e y (las etiquetas). \n",
    "        Si no, solamente devuelve X.\n",
    "    '''\n",
    "\n",
    "    columns_to_drop = ['PP06C', 'PP06D', 'PP08D1', 'PP08D4', 'PP08F1', 'PP08F2', 'PP08J1', 'PP08J2', 'PP08J3', 'P21', 'DECOCUR', 'IDECOCUR', 'RDECOCUR', 'GDECOCUR', 'PDECOCUR', 'ADECOCUR', 'PONDIIO','TOT_P12','P47T', \n",
    "                       'DECINDR', 'IDECINDR', 'RDECINDR', 'GDECINDR', 'PDECINDR', 'ADECINDR',\n",
    "                       'V2_M', 'V3_M', 'V4_M', 'V5_M', 'V8_M', 'V9_M', 'V10_M', 'V11_M', 'V12_M', 'V18_M', 'V19_AM', 'V21_M', \n",
    "                       'T_VI','ITF', 'DECIFR', 'IDECIFR', 'RDECIFR', 'GDECIFR', 'PDECIFR', 'ADECIFR','IPCF', 'DECCFR', 'IDECCFR', 'RDECCFR', 'GDECCFR', 'PDECCFR', 'ADECCFR',\n",
    "                       'ad_equiv', 'ad_equiv_hogar']    \n",
    "    base_prediccion = df.drop(columns=columns_to_drop)\n",
    "    if 'ingreso_necesario' in base_prediccion.columns:\n",
    "        base_prediccion.drop(columns=['ingreso_necesario'])\n",
    "    base_prediccion = base_prediccion.drop(columns=[\"CODUSU\", \"MAS_500\", \"CH05\"])\n",
    "    base_prediccion = base_prediccion.dropna(thresh = len(base_prediccion), axis = 1)\n",
    "    base_prediccion[\"cons\"] = 1\n",
    "    if 'pobre' in base_prediccion.columns:\n",
    "        return base_prediccion.drop(columns=[\"pobre\"]), base_prediccion.pobre\n",
    "    else:\n",
    "        return base_prediccion"
   ]
  },
  {
   "cell_type": "markdown",
   "id": "0914b810",
   "metadata": {},
   "source": [
    "Nota:\n",
    "\n",
    "También podríamos definir estas funciones en un módulo auxiliar.\n",
    "El módulo auxiliar es un archivo .py (llamémoslo \"auxiliar.py\") con las funciones. \n",
    "Luego, para poder usar las funciones en nuestro notebook lo importaríamos de la siguiente forma:\n",
    "\n",
    "from auxiliar import preprocesar_eph, generar_base_prediccion\n",
    "\n",
    "y ver los docstrings de las funciones con help(*nombre_funcion*)"
   ]
  },
  {
   "cell_type": "code",
   "execution_count": 13,
   "id": "5432c06c",
   "metadata": {},
   "outputs": [],
   "source": [
    "#from auxiliar import preprocesar_eph\n",
    "#help(preprocesar_eph)"
   ]
  },
  {
   "cell_type": "code",
   "execution_count": 13,
   "id": "44344b52",
   "metadata": {
    "id": "44344b52",
    "outputId": "14ec5908-65de-4afe-d599-fc4a261dda92"
   },
   "outputs": [
    {
     "ename": "KeyError",
     "evalue": "'CH04'",
     "output_type": "error",
     "traceback": [
      "\u001b[0;31m---------------------------------------------------------------------------\u001b[0m",
      "\u001b[0;31mKeyError\u001b[0m                                  Traceback (most recent call last)",
      "\u001b[0;32m/var/folders/4l/b6543l4s3vj9n9s3jcs2vq_w0000gn/T/ipykernel_11979/1361055834.py\u001b[0m in \u001b[0;36m?\u001b[0;34m()\u001b[0m\n\u001b[0;32m----> 1\u001b[0;31m \u001b[0mrespondieron\u001b[0m\u001b[0;34m,\u001b[0m \u001b[0mnorespondieron\u001b[0m \u001b[0;34m=\u001b[0m \u001b[0mpreprocesar_eph\u001b[0m\u001b[0;34m(\u001b[0m\u001b[0meph_file\u001b[0m\u001b[0;34m,\u001b[0m \u001b[0mad_equiv_xls\u001b[0m\u001b[0;34m)\u001b[0m\u001b[0;34m\u001b[0m\u001b[0;34m\u001b[0m\u001b[0m\n\u001b[0m",
      "\u001b[0;32m/var/folders/4l/b6543l4s3vj9n9s3jcs2vq_w0000gn/T/ipykernel_11979/734886455.py\u001b[0m in \u001b[0;36m?\u001b[0;34m(eph_file, ad_equiv_xls)\u001b[0m\n\u001b[1;32m     24\u001b[0m     \u001b[0meph_ba_filtrada\u001b[0m\u001b[0;34m=\u001b[0m\u001b[0meph_ba\u001b[0m\u001b[0;34m[\u001b[0m\u001b[0;34m(\u001b[0m\u001b[0meph_ba\u001b[0m\u001b[0;34m[\u001b[0m\u001b[0;34m\"CH06\"\u001b[0m\u001b[0;34m]\u001b[0m\u001b[0;34m>\u001b[0m\u001b[0;36m0\u001b[0m\u001b[0;34m)\u001b[0m\u001b[0;34m]\u001b[0m\u001b[0;34m\u001b[0m\u001b[0;34m\u001b[0m\u001b[0m\n\u001b[1;32m     25\u001b[0m     \u001b[0meph_ba_filtrada\u001b[0m\u001b[0;34m[\u001b[0m\u001b[0;34m[\u001b[0m\u001b[0;34m\"CH04\"\u001b[0m\u001b[0;34m,\u001b[0m \u001b[0;34m\"CH07\"\u001b[0m\u001b[0;34m,\u001b[0m \u001b[0;34m\"CH08\"\u001b[0m\u001b[0;34m,\u001b[0m \u001b[0;34m\"NIVEL_ED\"\u001b[0m\u001b[0;34m,\u001b[0m \u001b[0;34m\"ESTADO\"\u001b[0m\u001b[0;34m,\u001b[0m \u001b[0;34m\"CAT_INAC\"\u001b[0m\u001b[0;34m,\u001b[0m \u001b[0;34m\"IPCF\"\u001b[0m\u001b[0;34m,\u001b[0m \u001b[0;34m\"ITF\"\u001b[0m\u001b[0;34m,\u001b[0m \u001b[0;34m\"CH06\"\u001b[0m\u001b[0;34m]\u001b[0m\u001b[0;34m]\u001b[0m\u001b[0;34m.\u001b[0m\u001b[0mdescribe\u001b[0m\u001b[0;34m(\u001b[0m\u001b[0;34m)\u001b[0m\u001b[0;34m\u001b[0m\u001b[0;34m\u001b[0m\u001b[0m\n\u001b[1;32m     26\u001b[0m \u001b[0;34m\u001b[0m\u001b[0m\n\u001b[1;32m     27\u001b[0m     \u001b[0mtabla\u001b[0m \u001b[0;34m=\u001b[0m \u001b[0mpd\u001b[0m\u001b[0;34m.\u001b[0m\u001b[0mread_excel\u001b[0m\u001b[0;34m(\u001b[0m\u001b[0mad_equiv_xls\u001b[0m\u001b[0;34m)\u001b[0m\u001b[0;34m\u001b[0m\u001b[0;34m\u001b[0m\u001b[0m\n\u001b[0;32m---> 28\u001b[0;31m     \u001b[0meph_ba_filtrada\u001b[0m \u001b[0;34m=\u001b[0m \u001b[0meph_ba_filtrada\u001b[0m\u001b[0;34m.\u001b[0m\u001b[0mmerge\u001b[0m\u001b[0;34m(\u001b[0m\u001b[0mtabla\u001b[0m\u001b[0;34m,\u001b[0m \u001b[0mon\u001b[0m\u001b[0;34m=\u001b[0m\u001b[0;34m[\u001b[0m\u001b[0;34m\"CH04\"\u001b[0m\u001b[0;34m,\u001b[0m \u001b[0;34m\"CH06\"\u001b[0m\u001b[0;34m]\u001b[0m\u001b[0;34m,\u001b[0m \u001b[0mhow\u001b[0m\u001b[0;34m=\u001b[0m\u001b[0;34m\"left\"\u001b[0m\u001b[0;34m)\u001b[0m\u001b[0;34m\u001b[0m\u001b[0;34m\u001b[0m\u001b[0m\n\u001b[0m\u001b[1;32m     29\u001b[0m \u001b[0;34m\u001b[0m\u001b[0m\n\u001b[1;32m     30\u001b[0m     \u001b[0mad_equiv_hogar\u001b[0m \u001b[0;34m=\u001b[0m \u001b[0meph_ba_filtrada\u001b[0m\u001b[0;34m[\u001b[0m\u001b[0;34m[\u001b[0m\u001b[0;34m\"ad_equiv\"\u001b[0m\u001b[0;34m,\u001b[0m \u001b[0;34m\"CODUSU\"\u001b[0m\u001b[0;34m,\u001b[0m \u001b[0;34m\"NRO_HOGAR\"\u001b[0m\u001b[0;34m]\u001b[0m\u001b[0;34m]\u001b[0m\u001b[0;34m.\u001b[0m\u001b[0mgroupby\u001b[0m\u001b[0;34m(\u001b[0m\u001b[0mby\u001b[0m\u001b[0;34m=\u001b[0m\u001b[0;34m[\u001b[0m\u001b[0;34m\"CODUSU\"\u001b[0m\u001b[0;34m,\u001b[0m \u001b[0;34m\"NRO_HOGAR\"\u001b[0m\u001b[0;34m]\u001b[0m\u001b[0;34m)\u001b[0m\u001b[0;34m.\u001b[0m\u001b[0magg\u001b[0m\u001b[0;34m(\u001b[0m\u001b[0;34m{\u001b[0m\u001b[0;34m\"ad_equiv\"\u001b[0m\u001b[0;34m:\u001b[0m\u001b[0;34m\"sum\"\u001b[0m\u001b[0;34m}\u001b[0m\u001b[0;34m)\u001b[0m\u001b[0;34m\u001b[0m\u001b[0;34m\u001b[0m\u001b[0m\n\u001b[1;32m     31\u001b[0m     \u001b[0mad_equiv_hogar\u001b[0m\u001b[0;34m.\u001b[0m\u001b[0mreset_index\u001b[0m\u001b[0;34m(\u001b[0m\u001b[0minplace\u001b[0m \u001b[0;34m=\u001b[0m \u001b[0;32mTrue\u001b[0m\u001b[0;34m)\u001b[0m\u001b[0;34m\u001b[0m\u001b[0;34m\u001b[0m\u001b[0m\n",
      "\u001b[0;32m~/anaconda3/envs/CC408/lib/python3.11/site-packages/pandas/core/frame.py\u001b[0m in \u001b[0;36m?\u001b[0;34m(self, right, how, on, left_on, right_on, left_index, right_index, sort, suffixes, copy, indicator, validate)\u001b[0m\n\u001b[1;32m  10828\u001b[0m         \u001b[0mvalidate\u001b[0m\u001b[0;34m:\u001b[0m \u001b[0mMergeValidate\u001b[0m \u001b[0;34m|\u001b[0m \u001b[0;32mNone\u001b[0m \u001b[0;34m=\u001b[0m \u001b[0;32mNone\u001b[0m\u001b[0;34m,\u001b[0m\u001b[0;34m\u001b[0m\u001b[0;34m\u001b[0m\u001b[0m\n\u001b[1;32m  10829\u001b[0m     ) -> DataFrame:\n\u001b[1;32m  10830\u001b[0m         \u001b[0;32mfrom\u001b[0m \u001b[0mpandas\u001b[0m\u001b[0;34m.\u001b[0m\u001b[0mcore\u001b[0m\u001b[0;34m.\u001b[0m\u001b[0mreshape\u001b[0m\u001b[0;34m.\u001b[0m\u001b[0mmerge\u001b[0m \u001b[0;32mimport\u001b[0m \u001b[0mmerge\u001b[0m\u001b[0;34m\u001b[0m\u001b[0;34m\u001b[0m\u001b[0m\n\u001b[1;32m  10831\u001b[0m \u001b[0;34m\u001b[0m\u001b[0m\n\u001b[0;32m> 10832\u001b[0;31m         return merge(\n\u001b[0m\u001b[1;32m  10833\u001b[0m             \u001b[0mself\u001b[0m\u001b[0;34m,\u001b[0m\u001b[0;34m\u001b[0m\u001b[0;34m\u001b[0m\u001b[0m\n\u001b[1;32m  10834\u001b[0m             \u001b[0mright\u001b[0m\u001b[0;34m,\u001b[0m\u001b[0;34m\u001b[0m\u001b[0;34m\u001b[0m\u001b[0m\n\u001b[1;32m  10835\u001b[0m             \u001b[0mhow\u001b[0m\u001b[0;34m=\u001b[0m\u001b[0mhow\u001b[0m\u001b[0;34m,\u001b[0m\u001b[0;34m\u001b[0m\u001b[0;34m\u001b[0m\u001b[0m\n",
      "\u001b[0;32m~/anaconda3/envs/CC408/lib/python3.11/site-packages/pandas/core/reshape/merge.py\u001b[0m in \u001b[0;36m?\u001b[0;34m(left, right, how, on, left_on, right_on, left_index, right_index, sort, suffixes, copy, indicator, validate)\u001b[0m\n\u001b[1;32m    166\u001b[0m             \u001b[0mvalidate\u001b[0m\u001b[0;34m=\u001b[0m\u001b[0mvalidate\u001b[0m\u001b[0;34m,\u001b[0m\u001b[0;34m\u001b[0m\u001b[0;34m\u001b[0m\u001b[0m\n\u001b[1;32m    167\u001b[0m             \u001b[0mcopy\u001b[0m\u001b[0;34m=\u001b[0m\u001b[0mcopy\u001b[0m\u001b[0;34m,\u001b[0m\u001b[0;34m\u001b[0m\u001b[0;34m\u001b[0m\u001b[0m\n\u001b[1;32m    168\u001b[0m         )\n\u001b[1;32m    169\u001b[0m     \u001b[0;32melse\u001b[0m\u001b[0;34m:\u001b[0m\u001b[0;34m\u001b[0m\u001b[0;34m\u001b[0m\u001b[0m\n\u001b[0;32m--> 170\u001b[0;31m         op = _MergeOperation(\n\u001b[0m\u001b[1;32m    171\u001b[0m             \u001b[0mleft_df\u001b[0m\u001b[0;34m,\u001b[0m\u001b[0;34m\u001b[0m\u001b[0;34m\u001b[0m\u001b[0m\n\u001b[1;32m    172\u001b[0m             \u001b[0mright_df\u001b[0m\u001b[0;34m,\u001b[0m\u001b[0;34m\u001b[0m\u001b[0;34m\u001b[0m\u001b[0m\n\u001b[1;32m    173\u001b[0m             \u001b[0mhow\u001b[0m\u001b[0;34m=\u001b[0m\u001b[0mhow\u001b[0m\u001b[0;34m,\u001b[0m\u001b[0;34m\u001b[0m\u001b[0;34m\u001b[0m\u001b[0m\n",
      "\u001b[0;32m~/anaconda3/envs/CC408/lib/python3.11/site-packages/pandas/core/reshape/merge.py\u001b[0m in \u001b[0;36m?\u001b[0;34m(self, left, right, how, on, left_on, right_on, left_index, right_index, sort, suffixes, indicator, validate)\u001b[0m\n\u001b[1;32m    790\u001b[0m             \u001b[0mself\u001b[0m\u001b[0;34m.\u001b[0m\u001b[0mright_join_keys\u001b[0m\u001b[0;34m,\u001b[0m\u001b[0;34m\u001b[0m\u001b[0;34m\u001b[0m\u001b[0m\n\u001b[1;32m    791\u001b[0m             \u001b[0mself\u001b[0m\u001b[0;34m.\u001b[0m\u001b[0mjoin_names\u001b[0m\u001b[0;34m,\u001b[0m\u001b[0;34m\u001b[0m\u001b[0;34m\u001b[0m\u001b[0m\n\u001b[1;32m    792\u001b[0m             \u001b[0mleft_drop\u001b[0m\u001b[0;34m,\u001b[0m\u001b[0;34m\u001b[0m\u001b[0;34m\u001b[0m\u001b[0m\n\u001b[1;32m    793\u001b[0m             \u001b[0mright_drop\u001b[0m\u001b[0;34m,\u001b[0m\u001b[0;34m\u001b[0m\u001b[0;34m\u001b[0m\u001b[0m\n\u001b[0;32m--> 794\u001b[0;31m         ) = self._get_merge_keys()\n\u001b[0m\u001b[1;32m    795\u001b[0m \u001b[0;34m\u001b[0m\u001b[0m\n\u001b[1;32m    796\u001b[0m         \u001b[0;32mif\u001b[0m \u001b[0mleft_drop\u001b[0m\u001b[0;34m:\u001b[0m\u001b[0;34m\u001b[0m\u001b[0;34m\u001b[0m\u001b[0m\n\u001b[1;32m    797\u001b[0m             \u001b[0mself\u001b[0m\u001b[0;34m.\u001b[0m\u001b[0mleft\u001b[0m \u001b[0;34m=\u001b[0m \u001b[0mself\u001b[0m\u001b[0;34m.\u001b[0m\u001b[0mleft\u001b[0m\u001b[0;34m.\u001b[0m\u001b[0m_drop_labels_or_levels\u001b[0m\u001b[0;34m(\u001b[0m\u001b[0mleft_drop\u001b[0m\u001b[0;34m)\u001b[0m\u001b[0;34m\u001b[0m\u001b[0;34m\u001b[0m\u001b[0m\n",
      "\u001b[0;32m~/anaconda3/envs/CC408/lib/python3.11/site-packages/pandas/core/reshape/merge.py\u001b[0m in \u001b[0;36m?\u001b[0;34m(self)\u001b[0m\n\u001b[1;32m   1293\u001b[0m                         \u001b[0;31m# Then we're either Hashable or a wrong-length arraylike,\u001b[0m\u001b[0;34m\u001b[0m\u001b[0;34m\u001b[0m\u001b[0m\n\u001b[1;32m   1294\u001b[0m                         \u001b[0;31m#  the latter of which will raise\u001b[0m\u001b[0;34m\u001b[0m\u001b[0;34m\u001b[0m\u001b[0m\n\u001b[1;32m   1295\u001b[0m                         \u001b[0mrk\u001b[0m \u001b[0;34m=\u001b[0m \u001b[0mcast\u001b[0m\u001b[0;34m(\u001b[0m\u001b[0mHashable\u001b[0m\u001b[0;34m,\u001b[0m \u001b[0mrk\u001b[0m\u001b[0;34m)\u001b[0m\u001b[0;34m\u001b[0m\u001b[0;34m\u001b[0m\u001b[0m\n\u001b[1;32m   1296\u001b[0m                         \u001b[0;32mif\u001b[0m \u001b[0mrk\u001b[0m \u001b[0;32mis\u001b[0m \u001b[0;32mnot\u001b[0m \u001b[0;32mNone\u001b[0m\u001b[0;34m:\u001b[0m\u001b[0;34m\u001b[0m\u001b[0;34m\u001b[0m\u001b[0m\n\u001b[0;32m-> 1297\u001b[0;31m                             \u001b[0mright_keys\u001b[0m\u001b[0;34m.\u001b[0m\u001b[0mappend\u001b[0m\u001b[0;34m(\u001b[0m\u001b[0mright\u001b[0m\u001b[0;34m.\u001b[0m\u001b[0m_get_label_or_level_values\u001b[0m\u001b[0;34m(\u001b[0m\u001b[0mrk\u001b[0m\u001b[0;34m)\u001b[0m\u001b[0;34m)\u001b[0m\u001b[0;34m\u001b[0m\u001b[0;34m\u001b[0m\u001b[0m\n\u001b[0m\u001b[1;32m   1298\u001b[0m                         \u001b[0;32melse\u001b[0m\u001b[0;34m:\u001b[0m\u001b[0;34m\u001b[0m\u001b[0;34m\u001b[0m\u001b[0m\n\u001b[1;32m   1299\u001b[0m                             \u001b[0;31m# work-around for merge_asof(right_index=True)\u001b[0m\u001b[0;34m\u001b[0m\u001b[0;34m\u001b[0m\u001b[0m\n\u001b[1;32m   1300\u001b[0m                             \u001b[0mright_keys\u001b[0m\u001b[0;34m.\u001b[0m\u001b[0mappend\u001b[0m\u001b[0;34m(\u001b[0m\u001b[0mright\u001b[0m\u001b[0;34m.\u001b[0m\u001b[0mindex\u001b[0m\u001b[0;34m.\u001b[0m\u001b[0m_values\u001b[0m\u001b[0;34m)\u001b[0m\u001b[0;34m\u001b[0m\u001b[0;34m\u001b[0m\u001b[0m\n",
      "\u001b[0;32m~/anaconda3/envs/CC408/lib/python3.11/site-packages/pandas/core/generic.py\u001b[0m in \u001b[0;36m?\u001b[0;34m(self, key, axis)\u001b[0m\n\u001b[1;32m   1907\u001b[0m             \u001b[0mvalues\u001b[0m \u001b[0;34m=\u001b[0m \u001b[0mself\u001b[0m\u001b[0;34m.\u001b[0m\u001b[0mxs\u001b[0m\u001b[0;34m(\u001b[0m\u001b[0mkey\u001b[0m\u001b[0;34m,\u001b[0m \u001b[0maxis\u001b[0m\u001b[0;34m=\u001b[0m\u001b[0mother_axes\u001b[0m\u001b[0;34m[\u001b[0m\u001b[0;36m0\u001b[0m\u001b[0;34m]\u001b[0m\u001b[0;34m)\u001b[0m\u001b[0;34m.\u001b[0m\u001b[0m_values\u001b[0m\u001b[0;34m\u001b[0m\u001b[0;34m\u001b[0m\u001b[0m\n\u001b[1;32m   1908\u001b[0m         \u001b[0;32melif\u001b[0m \u001b[0mself\u001b[0m\u001b[0;34m.\u001b[0m\u001b[0m_is_level_reference\u001b[0m\u001b[0;34m(\u001b[0m\u001b[0mkey\u001b[0m\u001b[0;34m,\u001b[0m \u001b[0maxis\u001b[0m\u001b[0;34m=\u001b[0m\u001b[0maxis\u001b[0m\u001b[0;34m)\u001b[0m\u001b[0;34m:\u001b[0m\u001b[0;34m\u001b[0m\u001b[0;34m\u001b[0m\u001b[0m\n\u001b[1;32m   1909\u001b[0m             \u001b[0mvalues\u001b[0m \u001b[0;34m=\u001b[0m \u001b[0mself\u001b[0m\u001b[0;34m.\u001b[0m\u001b[0maxes\u001b[0m\u001b[0;34m[\u001b[0m\u001b[0maxis\u001b[0m\u001b[0;34m]\u001b[0m\u001b[0;34m.\u001b[0m\u001b[0mget_level_values\u001b[0m\u001b[0;34m(\u001b[0m\u001b[0mkey\u001b[0m\u001b[0;34m)\u001b[0m\u001b[0;34m.\u001b[0m\u001b[0m_values\u001b[0m\u001b[0;34m\u001b[0m\u001b[0;34m\u001b[0m\u001b[0m\n\u001b[1;32m   1910\u001b[0m         \u001b[0;32melse\u001b[0m\u001b[0;34m:\u001b[0m\u001b[0;34m\u001b[0m\u001b[0;34m\u001b[0m\u001b[0m\n\u001b[0;32m-> 1911\u001b[0;31m             \u001b[0;32mraise\u001b[0m \u001b[0mKeyError\u001b[0m\u001b[0;34m(\u001b[0m\u001b[0mkey\u001b[0m\u001b[0;34m)\u001b[0m\u001b[0;34m\u001b[0m\u001b[0;34m\u001b[0m\u001b[0m\n\u001b[0m\u001b[1;32m   1912\u001b[0m \u001b[0;34m\u001b[0m\u001b[0m\n\u001b[1;32m   1913\u001b[0m         \u001b[0;31m# Check for duplicates\u001b[0m\u001b[0;34m\u001b[0m\u001b[0;34m\u001b[0m\u001b[0m\n\u001b[1;32m   1914\u001b[0m         \u001b[0;32mif\u001b[0m \u001b[0mvalues\u001b[0m\u001b[0;34m.\u001b[0m\u001b[0mndim\u001b[0m \u001b[0;34m>\u001b[0m \u001b[0;36m1\u001b[0m\u001b[0;34m:\u001b[0m\u001b[0;34m\u001b[0m\u001b[0;34m\u001b[0m\u001b[0m\n",
      "\u001b[0;31mKeyError\u001b[0m: 'CH04'"
     ]
    }
   ],
   "source": [
    "respondieron, norespondieron = preprocesar_eph(eph_file, ad_equiv_xls)"
   ]
  },
  {
   "cell_type": "code",
   "execution_count": 7,
   "id": "d713b198",
   "metadata": {
    "id": "d713b198",
    "outputId": "4b771a71-48c4-4970-bcd7-e075af856d81"
   },
   "outputs": [
    {
     "data": {
      "text/html": [
       "<div>\n",
       "<style scoped>\n",
       "    .dataframe tbody tr th:only-of-type {\n",
       "        vertical-align: middle;\n",
       "    }\n",
       "\n",
       "    .dataframe tbody tr th {\n",
       "        vertical-align: top;\n",
       "    }\n",
       "\n",
       "    .dataframe thead th {\n",
       "        text-align: right;\n",
       "    }\n",
       "</style>\n",
       "<table border=\"1\" class=\"dataframe\">\n",
       "  <thead>\n",
       "    <tr style=\"text-align: right;\">\n",
       "      <th></th>\n",
       "      <th>CODUSU</th>\n",
       "      <th>ANO4</th>\n",
       "      <th>TRIMESTRE</th>\n",
       "      <th>NRO_HOGAR</th>\n",
       "      <th>COMPONENTE</th>\n",
       "      <th>H15</th>\n",
       "      <th>REGION</th>\n",
       "      <th>MAS_500</th>\n",
       "      <th>AGLOMERADO</th>\n",
       "      <th>PONDERA</th>\n",
       "      <th>...</th>\n",
       "      <th>IDECCFR</th>\n",
       "      <th>RDECCFR</th>\n",
       "      <th>GDECCFR</th>\n",
       "      <th>PDECCFR</th>\n",
       "      <th>ADECCFR</th>\n",
       "      <th>PONDIH</th>\n",
       "      <th>ad_equiv</th>\n",
       "      <th>ad_equiv_hogar</th>\n",
       "      <th>ingreso_necesario</th>\n",
       "      <th>pobre</th>\n",
       "    </tr>\n",
       "  </thead>\n",
       "  <tbody>\n",
       "    <tr>\n",
       "      <th>0</th>\n",
       "      <td>TQRMNOTUUHJMLPCDEIIAD00801670</td>\n",
       "      <td>2023</td>\n",
       "      <td>4</td>\n",
       "      <td>1</td>\n",
       "      <td>1</td>\n",
       "      <td>1</td>\n",
       "      <td>1</td>\n",
       "      <td>S</td>\n",
       "      <td>32</td>\n",
       "      <td>1775</td>\n",
       "      <td>...</td>\n",
       "      <td>NaN</td>\n",
       "      <td>8</td>\n",
       "      <td>8.0</td>\n",
       "      <td>NaN</td>\n",
       "      <td>5</td>\n",
       "      <td>3079</td>\n",
       "      <td>0.74</td>\n",
       "      <td>1.37</td>\n",
       "      <td>182009.021</td>\n",
       "      <td>0</td>\n",
       "    </tr>\n",
       "    <tr>\n",
       "      <th>1</th>\n",
       "      <td>TQRMNOTUUHJMLPCDEIIAD00801670</td>\n",
       "      <td>2023</td>\n",
       "      <td>4</td>\n",
       "      <td>1</td>\n",
       "      <td>2</td>\n",
       "      <td>1</td>\n",
       "      <td>1</td>\n",
       "      <td>S</td>\n",
       "      <td>32</td>\n",
       "      <td>1775</td>\n",
       "      <td>...</td>\n",
       "      <td>NaN</td>\n",
       "      <td>8</td>\n",
       "      <td>8.0</td>\n",
       "      <td>NaN</td>\n",
       "      <td>5</td>\n",
       "      <td>3079</td>\n",
       "      <td>0.63</td>\n",
       "      <td>1.37</td>\n",
       "      <td>182009.021</td>\n",
       "      <td>0</td>\n",
       "    </tr>\n",
       "    <tr>\n",
       "      <th>4</th>\n",
       "      <td>TQRMNOPUTHKLMNCDEIIAD00791268</td>\n",
       "      <td>2023</td>\n",
       "      <td>4</td>\n",
       "      <td>1</td>\n",
       "      <td>1</td>\n",
       "      <td>1</td>\n",
       "      <td>1</td>\n",
       "      <td>S</td>\n",
       "      <td>32</td>\n",
       "      <td>3129</td>\n",
       "      <td>...</td>\n",
       "      <td>NaN</td>\n",
       "      <td>8</td>\n",
       "      <td>8.0</td>\n",
       "      <td>NaN</td>\n",
       "      <td>6</td>\n",
       "      <td>4648</td>\n",
       "      <td>0.76</td>\n",
       "      <td>2.82</td>\n",
       "      <td>374646.306</td>\n",
       "      <td>0</td>\n",
       "    </tr>\n",
       "    <tr>\n",
       "      <th>5</th>\n",
       "      <td>TQRMNOPUTHKLMNCDEIIAD00791268</td>\n",
       "      <td>2023</td>\n",
       "      <td>4</td>\n",
       "      <td>1</td>\n",
       "      <td>2</td>\n",
       "      <td>1</td>\n",
       "      <td>1</td>\n",
       "      <td>S</td>\n",
       "      <td>32</td>\n",
       "      <td>3129</td>\n",
       "      <td>...</td>\n",
       "      <td>NaN</td>\n",
       "      <td>8</td>\n",
       "      <td>8.0</td>\n",
       "      <td>NaN</td>\n",
       "      <td>6</td>\n",
       "      <td>4648</td>\n",
       "      <td>1.02</td>\n",
       "      <td>2.82</td>\n",
       "      <td>374646.306</td>\n",
       "      <td>0</td>\n",
       "    </tr>\n",
       "    <tr>\n",
       "      <th>6</th>\n",
       "      <td>TQRMNOPUTHKLMNCDEIIAD00791268</td>\n",
       "      <td>2023</td>\n",
       "      <td>4</td>\n",
       "      <td>1</td>\n",
       "      <td>3</td>\n",
       "      <td>1</td>\n",
       "      <td>1</td>\n",
       "      <td>S</td>\n",
       "      <td>32</td>\n",
       "      <td>3129</td>\n",
       "      <td>...</td>\n",
       "      <td>NaN</td>\n",
       "      <td>8</td>\n",
       "      <td>8.0</td>\n",
       "      <td>NaN</td>\n",
       "      <td>6</td>\n",
       "      <td>4648</td>\n",
       "      <td>1.04</td>\n",
       "      <td>2.82</td>\n",
       "      <td>374646.306</td>\n",
       "      <td>0</td>\n",
       "    </tr>\n",
       "    <tr>\n",
       "      <th>...</th>\n",
       "      <td>...</td>\n",
       "      <td>...</td>\n",
       "      <td>...</td>\n",
       "      <td>...</td>\n",
       "      <td>...</td>\n",
       "      <td>...</td>\n",
       "      <td>...</td>\n",
       "      <td>...</td>\n",
       "      <td>...</td>\n",
       "      <td>...</td>\n",
       "      <td>...</td>\n",
       "      <td>...</td>\n",
       "      <td>...</td>\n",
       "      <td>...</td>\n",
       "      <td>...</td>\n",
       "      <td>...</td>\n",
       "      <td>...</td>\n",
       "      <td>...</td>\n",
       "      <td>...</td>\n",
       "      <td>...</td>\n",
       "      <td>...</td>\n",
       "    </tr>\n",
       "    <tr>\n",
       "      <th>7327</th>\n",
       "      <td>TQRMNOSRQHLMNSCDEIJAH00855730</td>\n",
       "      <td>2023</td>\n",
       "      <td>4</td>\n",
       "      <td>1</td>\n",
       "      <td>2</td>\n",
       "      <td>1</td>\n",
       "      <td>1</td>\n",
       "      <td>S</td>\n",
       "      <td>33</td>\n",
       "      <td>1230</td>\n",
       "      <td>...</td>\n",
       "      <td>NaN</td>\n",
       "      <td>8</td>\n",
       "      <td>8.0</td>\n",
       "      <td>NaN</td>\n",
       "      <td>9</td>\n",
       "      <td>2145</td>\n",
       "      <td>0.77</td>\n",
       "      <td>2.43</td>\n",
       "      <td>322833.519</td>\n",
       "      <td>0</td>\n",
       "    </tr>\n",
       "    <tr>\n",
       "      <th>7328</th>\n",
       "      <td>TQRMNOSRQHLMNSCDEIJAH00855730</td>\n",
       "      <td>2023</td>\n",
       "      <td>4</td>\n",
       "      <td>1</td>\n",
       "      <td>3</td>\n",
       "      <td>0</td>\n",
       "      <td>1</td>\n",
       "      <td>S</td>\n",
       "      <td>33</td>\n",
       "      <td>1230</td>\n",
       "      <td>...</td>\n",
       "      <td>NaN</td>\n",
       "      <td>8</td>\n",
       "      <td>8.0</td>\n",
       "      <td>NaN</td>\n",
       "      <td>9</td>\n",
       "      <td>2145</td>\n",
       "      <td>0.66</td>\n",
       "      <td>2.43</td>\n",
       "      <td>322833.519</td>\n",
       "      <td>0</td>\n",
       "    </tr>\n",
       "    <tr>\n",
       "      <th>7329</th>\n",
       "      <td>TQRMNOVTYHLMNUCDEIJAH00855731</td>\n",
       "      <td>2023</td>\n",
       "      <td>4</td>\n",
       "      <td>1</td>\n",
       "      <td>1</td>\n",
       "      <td>1</td>\n",
       "      <td>1</td>\n",
       "      <td>S</td>\n",
       "      <td>33</td>\n",
       "      <td>1316</td>\n",
       "      <td>...</td>\n",
       "      <td>NaN</td>\n",
       "      <td>3</td>\n",
       "      <td>3.0</td>\n",
       "      <td>NaN</td>\n",
       "      <td>3</td>\n",
       "      <td>2192</td>\n",
       "      <td>0.67</td>\n",
       "      <td>2.52</td>\n",
       "      <td>334790.316</td>\n",
       "      <td>1</td>\n",
       "    </tr>\n",
       "    <tr>\n",
       "      <th>7330</th>\n",
       "      <td>TQRMNOVTYHLMNUCDEIJAH00855731</td>\n",
       "      <td>2023</td>\n",
       "      <td>4</td>\n",
       "      <td>1</td>\n",
       "      <td>2</td>\n",
       "      <td>1</td>\n",
       "      <td>1</td>\n",
       "      <td>S</td>\n",
       "      <td>33</td>\n",
       "      <td>1316</td>\n",
       "      <td>...</td>\n",
       "      <td>NaN</td>\n",
       "      <td>3</td>\n",
       "      <td>3.0</td>\n",
       "      <td>NaN</td>\n",
       "      <td>3</td>\n",
       "      <td>2192</td>\n",
       "      <td>0.83</td>\n",
       "      <td>2.52</td>\n",
       "      <td>334790.316</td>\n",
       "      <td>1</td>\n",
       "    </tr>\n",
       "    <tr>\n",
       "      <th>7331</th>\n",
       "      <td>TQRMNOVTYHLMNUCDEIJAH00855731</td>\n",
       "      <td>2023</td>\n",
       "      <td>4</td>\n",
       "      <td>1</td>\n",
       "      <td>3</td>\n",
       "      <td>1</td>\n",
       "      <td>1</td>\n",
       "      <td>S</td>\n",
       "      <td>33</td>\n",
       "      <td>1316</td>\n",
       "      <td>...</td>\n",
       "      <td>NaN</td>\n",
       "      <td>3</td>\n",
       "      <td>3.0</td>\n",
       "      <td>NaN</td>\n",
       "      <td>3</td>\n",
       "      <td>2192</td>\n",
       "      <td>1.02</td>\n",
       "      <td>2.52</td>\n",
       "      <td>334790.316</td>\n",
       "      <td>1</td>\n",
       "    </tr>\n",
       "  </tbody>\n",
       "</table>\n",
       "<p>4367 rows × 181 columns</p>\n",
       "</div>"
      ],
      "text/plain": [
       "                             CODUSU  ANO4  TRIMESTRE  NRO_HOGAR  COMPONENTE  \\\n",
       "0     TQRMNOTUUHJMLPCDEIIAD00801670  2023          4          1           1   \n",
       "1     TQRMNOTUUHJMLPCDEIIAD00801670  2023          4          1           2   \n",
       "4     TQRMNOPUTHKLMNCDEIIAD00791268  2023          4          1           1   \n",
       "5     TQRMNOPUTHKLMNCDEIIAD00791268  2023          4          1           2   \n",
       "6     TQRMNOPUTHKLMNCDEIIAD00791268  2023          4          1           3   \n",
       "...                             ...   ...        ...        ...         ...   \n",
       "7327  TQRMNOSRQHLMNSCDEIJAH00855730  2023          4          1           2   \n",
       "7328  TQRMNOSRQHLMNSCDEIJAH00855730  2023          4          1           3   \n",
       "7329  TQRMNOVTYHLMNUCDEIJAH00855731  2023          4          1           1   \n",
       "7330  TQRMNOVTYHLMNUCDEIJAH00855731  2023          4          1           2   \n",
       "7331  TQRMNOVTYHLMNUCDEIJAH00855731  2023          4          1           3   \n",
       "\n",
       "      H15  REGION MAS_500  AGLOMERADO  PONDERA  ...  IDECCFR  RDECCFR GDECCFR  \\\n",
       "0       1       1       S          32     1775  ...      NaN        8     8.0   \n",
       "1       1       1       S          32     1775  ...      NaN        8     8.0   \n",
       "4       1       1       S          32     3129  ...      NaN        8     8.0   \n",
       "5       1       1       S          32     3129  ...      NaN        8     8.0   \n",
       "6       1       1       S          32     3129  ...      NaN        8     8.0   \n",
       "...   ...     ...     ...         ...      ...  ...      ...      ...     ...   \n",
       "7327    1       1       S          33     1230  ...      NaN        8     8.0   \n",
       "7328    0       1       S          33     1230  ...      NaN        8     8.0   \n",
       "7329    1       1       S          33     1316  ...      NaN        3     3.0   \n",
       "7330    1       1       S          33     1316  ...      NaN        3     3.0   \n",
       "7331    1       1       S          33     1316  ...      NaN        3     3.0   \n",
       "\n",
       "      PDECCFR  ADECCFR  PONDIH  ad_equiv  ad_equiv_hogar  ingreso_necesario  \\\n",
       "0         NaN        5    3079      0.74            1.37         182009.021   \n",
       "1         NaN        5    3079      0.63            1.37         182009.021   \n",
       "4         NaN        6    4648      0.76            2.82         374646.306   \n",
       "5         NaN        6    4648      1.02            2.82         374646.306   \n",
       "6         NaN        6    4648      1.04            2.82         374646.306   \n",
       "...       ...      ...     ...       ...             ...                ...   \n",
       "7327      NaN        9    2145      0.77            2.43         322833.519   \n",
       "7328      NaN        9    2145      0.66            2.43         322833.519   \n",
       "7329      NaN        3    2192      0.67            2.52         334790.316   \n",
       "7330      NaN        3    2192      0.83            2.52         334790.316   \n",
       "7331      NaN        3    2192      1.02            2.52         334790.316   \n",
       "\n",
       "      pobre  \n",
       "0         0  \n",
       "1         0  \n",
       "4         0  \n",
       "5         0  \n",
       "6         0  \n",
       "...     ...  \n",
       "7327      0  \n",
       "7328      0  \n",
       "7329      1  \n",
       "7330      1  \n",
       "7331      1  \n",
       "\n",
       "[4367 rows x 181 columns]"
      ]
     },
     "execution_count": 7,
     "metadata": {},
     "output_type": "execute_result"
    }
   ],
   "source": [
    "respondieron"
   ]
  },
  {
   "cell_type": "code",
   "execution_count": 8,
   "id": "55f4ecb8",
   "metadata": {
    "id": "55f4ecb8"
   },
   "outputs": [],
   "source": [
    "X, y = generar_base_prediccion(respondieron)"
   ]
  },
  {
   "cell_type": "markdown",
   "id": "4e2913b2",
   "metadata": {
    "id": "4e2913b2"
   },
   "source": [
    "### Evaluando múltiples modelos (y múltiples configuraciones)\n",
    "Vamos a ver una técnica de programación que nos va a ayudar a escribir código más compacto y fácil de mantener."
   ]
  },
  {
   "cell_type": "markdown",
   "id": "4ef10f1f",
   "metadata": {
    "id": "4ef10f1f"
   },
   "source": [
    "#### Particionar datos"
   ]
  },
  {
   "cell_type": "code",
   "execution_count": 9,
   "id": "cc755954",
   "metadata": {
    "id": "cc755954"
   },
   "outputs": [],
   "source": [
    "X_train, X_test, y_train, y_test = train_test_split(X, y, test_size=0.3, random_state=101)"
   ]
  },
  {
   "cell_type": "markdown",
   "id": "de97eda9",
   "metadata": {
    "id": "de97eda9"
   },
   "source": [
    "#### Definir modelos"
   ]
  },
  {
   "cell_type": "markdown",
   "id": "d42b4588",
   "metadata": {},
   "source": [
    "Vamos a usar diccionarios, con valores un poco más complejos, los algoritmos que queremos usar. Veamos primero un ejemplo sencillo:"
   ]
  },
  {
   "cell_type": "code",
   "execution_count": null,
   "id": "e566209e",
   "metadata": {},
   "outputs": [],
   "source": [
    "def elevar_al_cuadrado(x):\n",
    "    return x**2\n",
    "\n",
    "def elevar_al_cubo(x):\n",
    "    return x**3\n",
    "\n",
    "def elevar_a_la_cuarta(x):\n",
    "    return x**4"
   ]
  },
  {
   "cell_type": "code",
   "execution_count": null,
   "id": "2f385079",
   "metadata": {},
   "outputs": [],
   "source": [
    "elevar_a_una_potencia = {\n",
    "    2: elevar_al_cuadrado,\n",
    "    3: elevar_al_cubo,\n",
    "    4: elevar_a_la_cuarta,\n",
    "}"
   ]
  },
  {
   "cell_type": "markdown",
   "id": "97faf614",
   "metadata": {},
   "source": [
    "Usando el diccionario y sus claves, estamos llamando a las funciones que definimos anteriormente"
   ]
  },
  {
   "cell_type": "code",
   "execution_count": null,
   "id": "3a5e1447",
   "metadata": {},
   "outputs": [],
   "source": [
    "elevar_a_una_potencia[2]"
   ]
  },
  {
   "cell_type": "markdown",
   "id": "21797931",
   "metadata": {},
   "source": [
    "Ahora veamos cómo funciona esto para iterar sobre modelos"
   ]
  },
  {
   "cell_type": "code",
   "execution_count": null,
   "id": "69122e79",
   "metadata": {
    "id": "69122e79"
   },
   "outputs": [],
   "source": [
    "MODELOS = {\n",
    "    \"Análisis de Discriminante Lineal\": LinearDiscriminantAnalysis(n_components=1),\n",
    "    \"3 vecinos cercanos\": KNeighborsClassifier(n_neighbors=3),\n",
    "    \"Regresión logística\": LogisticRegression()\n",
    "}"
   ]
  },
  {
   "cell_type": "code",
   "execution_count": null,
   "id": "c41c4a66",
   "metadata": {
    "id": "c41c4a66",
    "outputId": "daf89505-f3a9-4585-c4c0-d6ed785f46d4"
   },
   "outputs": [],
   "source": [
    "for nombre, modelo in MODELOS.items():\n",
    "    \n",
    "    print(\"Probando modelo: \", nombre)\n",
    "    \n",
    "    # Ajustamos el modelo\n",
    "    modelo.fit(X_train, y_train)\n",
    "    \n",
    "    # Realizamos predicción sobre base test\n",
    "    y_pred = modelo.predict(X_test)\n",
    "    \n",
    "    # Calculamos el accuracy y matriz de confusion\n",
    "    matriz_confusion = confusion_matrix(y_test, y_pred)\n",
    "    print('Confusion Matrix :')\n",
    "    print(matriz_confusion)\n",
    "    \n",
    "    accuracy = accuracy_score(y_test, y_pred)\n",
    "    print(\"La precisión del modelo es: %.3f\" % accuracy) \n",
    "    print()"
   ]
  },
  {
   "cell_type": "markdown",
   "id": "0968487f",
   "metadata": {},
   "source": [
    "Nota: el código de la celda de arriba no es una función (aún), sino un loop. Podrían usar un loop como este para crear la función evalua_metodo del TP4 (definiendo adecuadamente la función con sus parámetros y agregando lo que falta: obtener las métricas pedidas y guardarlas en una colección)."
   ]
  },
  {
   "cell_type": "markdown",
   "id": "7b04622f",
   "metadata": {
    "id": "7b04622f"
   },
   "source": [
    "#### Probando distintas configuraciones"
   ]
  },
  {
   "cell_type": "markdown",
   "id": "2874f333",
   "metadata": {
    "id": "2874f333"
   },
   "source": [
    "Supongamos ahora que queremos probar distintas configuraciones para un mismo modelo, por ejemplo, el número de vecinos $k$ para el modelo de $k$-NN. Para eso, podemos usar un **diccionario** que contenga los valores de los distintos parámetros que definen al modelo (usando como claves los nombres de los params tal como se definen en la función a usar). Por ejemplo,"
   ]
  },
  {
   "cell_type": "code",
   "execution_count": null,
   "id": "0e2a52d7",
   "metadata": {
    "id": "0e2a52d7"
   },
   "outputs": [],
   "source": [
    "modelo = KNeighborsClassifier(n_neighbors=5)"
   ]
  },
  {
   "cell_type": "markdown",
   "id": "a6025d6b",
   "metadata": {
    "id": "a6025d6b"
   },
   "source": [
    "es equivalente a  "
   ]
  },
  {
   "cell_type": "code",
   "execution_count": null,
   "id": "09bb4789",
   "metadata": {
    "id": "09bb4789"
   },
   "outputs": [],
   "source": [
    "config = {\"n_neighbors\": 5}\n",
    "modelo = KNeighborsClassifier(**config) # **config \"expande\" el diccionario\n",
    "#modelo.get_params()   # vemos que el algoritmo está configurado con 5 vecinos"
   ]
  },
  {
   "cell_type": "markdown",
   "id": "7b5d44d6",
   "metadata": {
    "id": "7b5d44d6"
   },
   "source": [
    "Usando esta técnica, podemos definir estas configuraciones de manera programática, por ejemplo como un diccionario de diccionarios:"
   ]
  },
  {
   "cell_type": "code",
   "execution_count": null,
   "id": "425a36de",
   "metadata": {
    "id": "425a36de"
   },
   "outputs": [],
   "source": [
    "knn_configs = {}\n",
    "for k in range(3, 16):\n",
    "    clave = \"KNN con %s vecinos\" % k # Una regla para el nombre del modelo\n",
    "    config = {\"n_neighbors\":k}\n",
    "    knn_configs[clave] = config"
   ]
  },
  {
   "cell_type": "code",
   "execution_count": null,
   "id": "7c3cf769",
   "metadata": {
    "id": "7c3cf769",
    "outputId": "39c22644-2881-492f-ca2d-70117f5839b4"
   },
   "outputs": [],
   "source": [
    "knn_configs"
   ]
  },
  {
   "cell_type": "markdown",
   "id": "f143f90c",
   "metadata": {
    "id": "f143f90c"
   },
   "source": [
    "**Alternativa**: Esto mismo se puede hacer definiendo el diccionario _por comprensión_:\n",
    "\n",
    "(Consiste en llaves rodeando una expresión seguida de la declaración for y luego declaraciones for o if. El resultado será un nuevo diccionario que sale de evaluar la expresión en el contexto de los for o if que le siguen.)"
   ]
  },
  {
   "cell_type": "code",
   "execution_count": null,
   "id": "9432681e",
   "metadata": {
    "id": "9432681e"
   },
   "outputs": [],
   "source": [
    "knn_configs = {\"KNN con %s vecinos\" % k: {\"n_neighbors\":k} for k in range(3, 16)}"
   ]
  },
  {
   "cell_type": "code",
   "execution_count": null,
   "id": "ae8a6f77",
   "metadata": {
    "id": "ae8a6f77",
    "outputId": "6681bae0-6963-44f6-a4b0-5e7b68c26109"
   },
   "outputs": [],
   "source": [
    "knn_configs"
   ]
  },
  {
   "cell_type": "markdown",
   "id": "fb7c95dd",
   "metadata": {
    "id": "fb7c95dd"
   },
   "source": [
    "Ahora, iteremos sobre las distintas configuraciones"
   ]
  },
  {
   "cell_type": "code",
   "execution_count": null,
   "id": "23f3f2a5",
   "metadata": {
    "id": "23f3f2a5",
    "outputId": "3c0b7d24-4b58-48fb-eae1-753f8c9acb52"
   },
   "outputs": [],
   "source": [
    "for nombre, config in knn_configs.items():\n",
    "    print(\"Probando modelo: \", nombre)\n",
    "    modelo = KNeighborsClassifier(**config)\n",
    "    \n",
    "    # Ajustamos el modelo\n",
    "    modelo.fit(X_train, y_train)\n",
    "    y_pred = modelo.predict(X_test)\n",
    "    \n",
    "    # Calculamos el accuracy y matriz de confusion\n",
    "    matriz_confusion = confusion_matrix(y_test, y_pred)\n",
    "    print('Matriz de confusión:')\n",
    "    print(matriz_confusion)\n",
    "    \n",
    "    accuracy = accuracy_score(y_test, y_pred)\n",
    "    print(\"La precisión del modelo es: %.3f\" % accuracy) \n",
    "    print()"
   ]
  },
  {
   "cell_type": "code",
   "execution_count": null,
   "id": "d4ad4ec6",
   "metadata": {},
   "outputs": [],
   "source": []
  }
 ],
 "metadata": {
  "colab": {
   "collapsed_sections": [],
   "provenance": []
  },
  "kernelspec": {
   "display_name": "CC408",
   "language": "python",
   "name": "python3"
  },
  "language_info": {
   "codemirror_mode": {
    "name": "ipython",
    "version": 3
   },
   "file_extension": ".py",
   "mimetype": "text/x-python",
   "name": "python",
   "nbconvert_exporter": "python",
   "pygments_lexer": "ipython3",
   "version": "3.11.9"
  }
 },
 "nbformat": 4,
 "nbformat_minor": 5
}
