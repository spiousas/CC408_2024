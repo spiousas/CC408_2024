{
 "cells": [
  {
   "cell_type": "markdown",
   "id": "c9cd4589",
   "metadata": {
    "id": "c9cd4589"
   },
   "source": [
    "# Tutorial de Ciencia de Datos (CC408) 2024"
   ]
  },
  {
   "cell_type": "markdown",
   "id": "a7938cc1",
   "metadata": {
    "id": "a7938cc1"
   },
   "source": [
    "## Tutorial 10 - Bonus: Funciones"
   ]
  },
  {
   "cell_type": "markdown",
   "id": "b60b3b0d",
   "metadata": {
    "id": "b60b3b0d"
   },
   "source": [
    "**Objetivo**: revisar algunas técnicas de programación para simplificar nuestro código en el futuro y aprender a iterar sobre modelos"
   ]
  },
  {
   "cell_type": "markdown",
   "id": "619f5c0a",
   "metadata": {
    "id": "619f5c0a"
   },
   "source": [
    "#### Importamos los módulos necesarios"
   ]
  },
  {
   "cell_type": "code",
   "execution_count": 1,
   "id": "4a78d007",
   "metadata": {
    "id": "4a78d007",
    "outputId": "046b9e64-3a84-4f05-83a6-431204e277b1"
   },
   "outputs": [],
   "source": [
    "import os  \n",
    "import pandas as pd\n",
    "import numpy as np \n",
    "import matplotlib.pyplot as plt  \n",
    "import statsmodels.api as sm     \n",
    "import seaborn as sns\n",
    "\n",
    "from sklearn import datasets\n",
    "from sklearn.linear_model import LogisticRegression\n",
    "from sklearn.model_selection import train_test_split\n",
    "from sklearn.metrics import confusion_matrix\n",
    "from sklearn.metrics import accuracy_score \n",
    "from sklearn.metrics import roc_curve\n",
    "from sklearn.metrics import roc_auc_score\n",
    "from sklearn.metrics import RocCurveDisplay\n",
    "from sklearn.discriminant_analysis import LinearDiscriminantAnalysis\n",
    "from sklearn.discriminant_analysis import LinearDiscriminantAnalysis\n",
    "from sklearn.discriminant_analysis import QuadraticDiscriminantAnalysis\n",
    "from sklearn.neighbors import KNeighborsClassifier"
   ]
  },
  {
   "cell_type": "code",
   "execution_count": 2,
   "id": "647c9253",
   "metadata": {
    "id": "647c9253"
   },
   "outputs": [],
   "source": [
    "eph_file = \"usu_individual_T124.xlsx\"\n",
    "ad_equiv_xls = \"tabla_adulto_equiv_long.xlsx\""
   ]
  },
  {
   "cell_type": "code",
   "execution_count": null,
   "id": "f9521f72",
   "metadata": {},
   "outputs": [],
   "source": [
    "# Abrir la base\n",
    "eph = pd.read_excel(eph_file)\n",
    "\n",
    "# Examinamos la base\n",
    "print(eph.info()) \n",
    "\n",
    "# Dimensiones (nro. de filas y de columnas)\n",
    "num_rows, num_columns = eph.shape\n",
    "\n",
    "print(f\"\\nNúmero de filas: {num_rows}\") #46050 obs\n",
    "print(f\"Número de columnas: {num_columns}\")\n",
    "\n",
    "print(\"\\n\", eph.head()) "
   ]
  },
  {
   "cell_type": "code",
   "execution_count": null,
   "id": "850204b4",
   "metadata": {},
   "outputs": [],
   "source": [
    "eph.head()"
   ]
  },
  {
   "cell_type": "code",
   "execution_count": 5,
   "id": "e265a7f0",
   "metadata": {},
   "outputs": [],
   "source": [
    "def preprocesar_eph(eph_file, ad_equiv_xls):    \n",
    "   \n",
    "    '''\n",
    "    Preprocesamiento de la EPH:\n",
    "        - filtrar solo valores de GBA y CABA\n",
    "        - filtrar solo valores con sentido\n",
    "        - armar bases respondieron y no respondieron\n",
    "    params:\n",
    "      eph_file: ruta al archivo de la EPH\n",
    "      ad_equiv_xls: ruta al archivo con la tabla de adultos equivalentes\n",
    "    \n",
    "    return:\n",
    "      respondieron, norespondieron\n",
    "    ''' \n",
    "\n",
    "    eph = pd.read_excel(eph_file)\n",
    "    \n",
    "    # Solo GBA y CABA\n",
    "    eph_ba = eph.loc[eph['AGLOMERADO'].isin([32,33])]\n",
    "    # Describe\n",
    "    eph_ba[[\"CH04\", \"CH07\", \"CH08\", \"NIVEL_ED\", \"ESTADO\", \"CAT_INAC\", \"IPCF\", \"ITF\", \"CH06\"]].describe()\n",
    "    \n",
    "    # Filtrar valores sin sentido\n",
    "    eph_ba_filtrada=eph_ba[(eph_ba[\"CH06\"]>0)]\n",
    "    eph_ba_filtrada[[\"CH04\", \"CH07\", \"CH08\", \"NIVEL_ED\", \"ESTADO\", \"CAT_INAC\", \"IPCF\", \"ITF\", \"CH06\"]].describe()\n",
    "    \n",
    "    tabla = pd.read_excel(ad_equiv_xls)\n",
    "    eph_ba_filtrada = eph_ba_filtrada.merge(tabla, on=[\"CH04\", \"CH06\"], how=\"left\")\n",
    "    \n",
    "    ad_equiv_hogar = eph_ba_filtrada[[\"ad_equiv\", \"CODUSU\", \"NRO_HOGAR\"]].groupby(by=[\"CODUSU\", \"NRO_HOGAR\"]).agg({\"ad_equiv\":\"sum\"})\n",
    "    ad_equiv_hogar.reset_index(inplace = True)\n",
    "    ad_equiv_hogar.rename({\"ad_equiv\" : \"ad_equiv_hogar\"}, inplace = True, axis=\"columns\")\n",
    "    \n",
    "    eph_ba_filtrada = eph_ba_filtrada.merge(ad_equiv_hogar, on=[\"CODUSU\", \"NRO_HOGAR\"], how=\"left\")\n",
    "    \n",
    "    respondieron = eph_ba_filtrada[eph_ba_filtrada[\"ITF\"] != 0]\n",
    "    respondieron[\"ingreso_necesario\"] = 132853.3 * respondieron[\"ad_equiv_hogar\"]\n",
    "    respondieron[\"pobre\"] = np.where(respondieron[\"ITF\"] < respondieron[\"ingreso_necesario\"], 1, 0)\n",
    "    \n",
    "    no_respondieron = eph_ba_filtrada[eph_ba_filtrada[\"ITF\"] == 0]\n",
    "    \n",
    "    return respondieron, no_respondieron"
   ]
  },
  {
   "cell_type": "code",
   "execution_count": 6,
   "id": "51c91215",
   "metadata": {},
   "outputs": [],
   "source": [
    "def generar_base_prediccion(df):\n",
    "\n",
    "    '''\n",
    "      params:\n",
    "        df: DataFrame de Pandas con la EPH preprocesada. \n",
    "      return:\n",
    "        Si df contiene una columna llamada \"pobre\" devuelve dos datasets: X (los predictores) e y (las etiquetas). \n",
    "        Si no, solamente devuelve X.\n",
    "    '''\n",
    "\n",
    "    columns_to_drop = ['PP06C', 'PP06D', 'PP08D1', 'PP08D4', 'PP08F1', 'PP08F2', 'PP08J1', 'PP08J2', 'PP08J3', 'P21', 'DECOCUR', 'IDECOCUR', 'RDECOCUR', 'GDECOCUR', 'PDECOCUR', 'ADECOCUR', 'PONDIIO','TOT_P12','P47T', \n",
    "                       'DECINDR', 'IDECINDR', 'RDECINDR', 'GDECINDR', 'PDECINDR', 'ADECINDR',\n",
    "                       'V2_M', 'V3_M', 'V4_M', 'V5_M', 'V8_M', 'V9_M', 'V10_M', 'V11_M', 'V12_M', 'V18_M', 'V19_AM', 'V21_M', \n",
    "                       'T_VI','ITF', 'DECIFR', 'IDECIFR', 'RDECIFR', 'GDECIFR', 'PDECIFR', 'ADECIFR','IPCF', 'DECCFR', 'IDECCFR', 'RDECCFR', 'GDECCFR', 'PDECCFR', 'ADECCFR',\n",
    "                       'ad_equiv', 'ad_equiv_hogar']    \n",
    "    base_prediccion = df.drop(columns=columns_to_drop)\n",
    "    if 'ingreso_necesario' in base_prediccion.columns:\n",
    "        base_prediccion.drop(columns=['ingreso_necesario'])\n",
    "    base_prediccion = base_prediccion.drop(columns=[\"CODUSU\", \"MAS_500\", \"CH05\"])\n",
    "    base_prediccion = base_prediccion.dropna(thresh = len(base_prediccion), axis = 1)\n",
    "    base_prediccion[\"cons\"] = 1\n",
    "    if 'pobre' in base_prediccion.columns:\n",
    "        return base_prediccion.drop(columns=[\"pobre\"]), base_prediccion.pobre\n",
    "    else:\n",
    "        return base_prediccion"
   ]
  },
  {
   "cell_type": "markdown",
   "id": "0914b810",
   "metadata": {},
   "source": [
    "Nota:\n",
    "\n",
    "También podríamos definir estas funciones en un módulo auxiliar.\n",
    "El módulo auxiliar es un archivo .py (llamémoslo \"auxiliar.py\") con las funciones. \n",
    "Luego, para poder usar las funciones en nuestro notebook lo importaríamos de la siguiente forma:\n",
    "\n",
    "from auxiliar import preprocesar_eph, generar_base_prediccion\n",
    "\n",
    "y ver los docstrings de las funciones con help(*nombre_funcion*)"
   ]
  },
  {
   "cell_type": "code",
   "execution_count": 7,
   "id": "5432c06c",
   "metadata": {},
   "outputs": [],
   "source": [
    "#from auxiliar import preprocesar_eph\n",
    "#help(preprocesar_eph)"
   ]
  },
  {
   "cell_type": "code",
   "execution_count": null,
   "id": "44344b52",
   "metadata": {
    "id": "44344b52",
    "outputId": "14ec5908-65de-4afe-d599-fc4a261dda92"
   },
   "outputs": [],
   "source": [
    "respondieron, norespondieron = preprocesar_eph(eph_file, ad_equiv_xls)"
   ]
  },
  {
   "cell_type": "code",
   "execution_count": null,
   "id": "d713b198",
   "metadata": {
    "id": "d713b198",
    "outputId": "4b771a71-48c4-4970-bcd7-e075af856d81"
   },
   "outputs": [],
   "source": [
    "respondieron"
   ]
  },
  {
   "cell_type": "code",
   "execution_count": 10,
   "id": "55f4ecb8",
   "metadata": {
    "id": "55f4ecb8"
   },
   "outputs": [],
   "source": [
    "X, y = generar_base_prediccion(respondieron)"
   ]
  },
  {
   "cell_type": "markdown",
   "id": "4e2913b2",
   "metadata": {
    "id": "4e2913b2"
   },
   "source": [
    "### Evaluando múltiples modelos (y múltiples configuraciones)\n",
    "Vamos a ver una técnica de programación que nos va a ayudar a escribir código más compacto y fácil de mantener."
   ]
  },
  {
   "cell_type": "markdown",
   "id": "4ef10f1f",
   "metadata": {
    "id": "4ef10f1f"
   },
   "source": [
    "#### Particionar datos"
   ]
  },
  {
   "cell_type": "code",
   "execution_count": 11,
   "id": "cc755954",
   "metadata": {
    "id": "cc755954"
   },
   "outputs": [],
   "source": [
    "X_train, X_test, y_train, y_test = train_test_split(X, y, test_size=0.3, random_state=101)"
   ]
  },
  {
   "cell_type": "markdown",
   "id": "de97eda9",
   "metadata": {
    "id": "de97eda9"
   },
   "source": [
    "#### Definir modelos"
   ]
  },
  {
   "cell_type": "markdown",
   "id": "d42b4588",
   "metadata": {},
   "source": [
    "Vamos a usar diccionarios, con valores un poco más complejos, los algoritmos que queremos usar. Veamos primero un ejemplo sencillo:"
   ]
  },
  {
   "cell_type": "code",
   "execution_count": 12,
   "id": "e566209e",
   "metadata": {},
   "outputs": [],
   "source": [
    "def elevar_al_cuadrado(x):\n",
    "    return x**2\n",
    "\n",
    "def elevar_al_cubo(x):\n",
    "    return x**3\n",
    "\n",
    "def elevar_a_la_cuarta(x):\n",
    "    return x**4"
   ]
  },
  {
   "cell_type": "code",
   "execution_count": 13,
   "id": "2f385079",
   "metadata": {},
   "outputs": [],
   "source": [
    "elevar_a_una_potencia = {\n",
    "    2: elevar_al_cuadrado,\n",
    "    3: elevar_al_cubo,\n",
    "    4: elevar_a_la_cuarta,\n",
    "}"
   ]
  },
  {
   "cell_type": "markdown",
   "id": "97faf614",
   "metadata": {},
   "source": [
    "Usando el diccionario y sus claves, estamos llamando a las funciones que definimos anteriormente"
   ]
  },
  {
   "cell_type": "code",
   "execution_count": null,
   "id": "3a5e1447",
   "metadata": {},
   "outputs": [],
   "source": [
    "elevar_a_una_potencia[2]"
   ]
  },
  {
   "cell_type": "markdown",
   "id": "21797931",
   "metadata": {},
   "source": [
    "Ahora veamos cómo funciona esto para iterar sobre modelos"
   ]
  },
  {
   "cell_type": "code",
   "execution_count": 15,
   "id": "69122e79",
   "metadata": {
    "id": "69122e79"
   },
   "outputs": [],
   "source": [
    "MODELOS = {\n",
    "    \"Análisis de Discriminante Lineal\": LinearDiscriminantAnalysis(n_components=1),\n",
    "    \"3 vecinos cercanos\": KNeighborsClassifier(n_neighbors=3),\n",
    "    \"Regresión logística\": LogisticRegression()\n",
    "}"
   ]
  },
  {
   "cell_type": "code",
   "execution_count": null,
   "id": "c41c4a66",
   "metadata": {
    "id": "c41c4a66",
    "outputId": "daf89505-f3a9-4585-c4c0-d6ed785f46d4"
   },
   "outputs": [],
   "source": [
    "for nombre, modelo in MODELOS.items():\n",
    "    \n",
    "    print(\"Probando modelo: \", nombre)\n",
    "    \n",
    "    # Ajustamos el modelo\n",
    "    modelo.fit(X_train, y_train)\n",
    "    \n",
    "    # Realizamos predicción sobre base test\n",
    "    y_pred = modelo.predict(X_test)\n",
    "    \n",
    "    # Calculamos el accuracy y matriz de confusion\n",
    "    matriz_confusion = confusion_matrix(y_test, y_pred)\n",
    "    print('Confusion Matrix :')\n",
    "    print(matriz_confusion)\n",
    "    \n",
    "    accuracy = accuracy_score(y_test, y_pred)\n",
    "    print(\"La precisión del modelo es: %.3f\" % accuracy) \n",
    "    print()"
   ]
  },
  {
   "cell_type": "markdown",
   "id": "0968487f",
   "metadata": {},
   "source": [
    "Nota: el código de la celda de arriba no es una función (aún), sino un loop. Podrían usar un loop como este para crear la función evalua_metodo del TP4 (definiendo adecuadamente la función con sus parámetros y agregando lo que falta: obtener las métricas pedidas y guardarlas en una colección)."
   ]
  },
  {
   "cell_type": "markdown",
   "id": "7b04622f",
   "metadata": {
    "id": "7b04622f"
   },
   "source": [
    "#### Probando distintas configuraciones"
   ]
  },
  {
   "cell_type": "markdown",
   "id": "2874f333",
   "metadata": {
    "id": "2874f333"
   },
   "source": [
    "Supongamos ahora que queremos probar distintas configuraciones para un mismo modelo, por ejemplo, el número de vecinos $k$ para el modelo de $k$-NN. Para eso, podemos usar un **diccionario** que contenga los valores de los distintos parámetros que definen al modelo (usando como claves los nombres de los params tal como se definen en la función a usar). Por ejemplo,"
   ]
  },
  {
   "cell_type": "code",
   "execution_count": 17,
   "id": "0e2a52d7",
   "metadata": {
    "id": "0e2a52d7"
   },
   "outputs": [],
   "source": [
    "modelo = KNeighborsClassifier(n_neighbors=5)"
   ]
  },
  {
   "cell_type": "markdown",
   "id": "a6025d6b",
   "metadata": {
    "id": "a6025d6b"
   },
   "source": [
    "es equivalente a  "
   ]
  },
  {
   "cell_type": "code",
   "execution_count": 18,
   "id": "09bb4789",
   "metadata": {
    "id": "09bb4789"
   },
   "outputs": [],
   "source": [
    "config = {\"n_neighbors\": 5}\n",
    "modelo = KNeighborsClassifier(**config) # **config \"expande\" el diccionario\n",
    "#modelo.get_params()   # vemos que el algoritmo está configurado con 5 vecinos"
   ]
  },
  {
   "cell_type": "markdown",
   "id": "7b5d44d6",
   "metadata": {
    "id": "7b5d44d6"
   },
   "source": [
    "Usando esta técnica, podemos definir estas configuraciones de manera programática, por ejemplo como un diccionario de diccionarios:"
   ]
  },
  {
   "cell_type": "code",
   "execution_count": 19,
   "id": "425a36de",
   "metadata": {
    "id": "425a36de"
   },
   "outputs": [],
   "source": [
    "knn_configs = {}\n",
    "for k in range(3, 16):\n",
    "    clave = \"KNN con %s vecinos\" % k # Una regla para el nombre del modelo\n",
    "    config = {\"n_neighbors\":k}\n",
    "    knn_configs[clave] = config"
   ]
  },
  {
   "cell_type": "code",
   "execution_count": null,
   "id": "7c3cf769",
   "metadata": {
    "id": "7c3cf769",
    "outputId": "39c22644-2881-492f-ca2d-70117f5839b4"
   },
   "outputs": [],
   "source": [
    "knn_configs"
   ]
  },
  {
   "cell_type": "markdown",
   "id": "f143f90c",
   "metadata": {
    "id": "f143f90c"
   },
   "source": [
    "**Alternativa**: Esto mismo se puede hacer definiendo el diccionario _por comprensión_:\n",
    "\n",
    "(Consiste en llaves rodeando una expresión seguida de la declaración for y luego declaraciones for o if. El resultado será un nuevo diccionario que sale de evaluar la expresión en el contexto de los for o if que le siguen.)"
   ]
  },
  {
   "cell_type": "code",
   "execution_count": 21,
   "id": "9432681e",
   "metadata": {
    "id": "9432681e"
   },
   "outputs": [],
   "source": [
    "knn_configs = {\"KNN con %s vecinos\" % k: {\"n_neighbors\":k} for k in range(3, 16)}"
   ]
  },
  {
   "cell_type": "code",
   "execution_count": null,
   "id": "ae8a6f77",
   "metadata": {
    "id": "ae8a6f77",
    "outputId": "6681bae0-6963-44f6-a4b0-5e7b68c26109"
   },
   "outputs": [],
   "source": [
    "knn_configs"
   ]
  },
  {
   "cell_type": "markdown",
   "id": "fb7c95dd",
   "metadata": {
    "id": "fb7c95dd"
   },
   "source": [
    "Ahora, iteremos sobre las distintas configuraciones"
   ]
  },
  {
   "cell_type": "code",
   "execution_count": null,
   "id": "23f3f2a5",
   "metadata": {
    "id": "23f3f2a5",
    "outputId": "3c0b7d24-4b58-48fb-eae1-753f8c9acb52"
   },
   "outputs": [],
   "source": [
    "for nombre, config in knn_configs.items():\n",
    "    print(\"Probando modelo: \", nombre)\n",
    "    modelo = KNeighborsClassifier(**config)\n",
    "    \n",
    "    # Ajustamos el modelo\n",
    "    modelo.fit(X_train, y_train)\n",
    "    y_pred = modelo.predict(X_test)\n",
    "    \n",
    "    # Calculamos el accuracy y matriz de confusion\n",
    "    matriz_confusion = confusion_matrix(y_test, y_pred)\n",
    "    print('Matriz de confusión:')\n",
    "    print(matriz_confusion)\n",
    "    \n",
    "    accuracy = accuracy_score(y_test, y_pred)\n",
    "    print(\"La precisión del modelo es: %.3f\" % accuracy) \n",
    "    print()"
   ]
  },
  {
   "cell_type": "code",
   "execution_count": null,
   "id": "d4ad4ec6",
   "metadata": {},
   "outputs": [],
   "source": []
  }
 ],
 "metadata": {
  "colab": {
   "collapsed_sections": [],
   "provenance": []
  },
  "kernelspec": {
   "display_name": "CC408",
   "language": "python",
   "name": "python3"
  },
  "language_info": {
   "codemirror_mode": {
    "name": "ipython",
    "version": 3
   },
   "file_extension": ".py",
   "mimetype": "text/x-python",
   "name": "python",
   "nbconvert_exporter": "python",
   "pygments_lexer": "ipython3",
   "version": "3.11.9"
  }
 },
 "nbformat": 4,
 "nbformat_minor": 5
}
